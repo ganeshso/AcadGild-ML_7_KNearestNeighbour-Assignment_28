{
 "cells": [
  {
   "cell_type": "code",
   "execution_count": 1,
   "metadata": {
    "ExecuteTime": {
     "end_time": "2018-08-21T19:41:08.366303Z",
     "start_time": "2018-08-21T19:41:08.360318Z"
    }
   },
   "outputs": [],
   "source": [
    "# In this assignment, students will be using the K-nearest neighbors algorithm to predict how many points NBA players scored in\n",
    "# the 2013-2014 season.\n",
    "\n",
    "# A look at the data: \n",
    "#     Before we dive into the algorithm, let’s take a look at our data. Each row in the data contains information on how a \n",
    "#     player performed in the 2013-2014 NBA season.\n",
    "    \n",
    "# Download 'nba_2013.csv' file from this link: \n",
    "#     https://www.dropbox.com/s/b3nv38jjo5dxcl6/nba_2013.csv?dl=0\n",
    "        \n",
    "#     Here are some selected columns from the data:\n",
    "#     player - name of the player\n",
    "#     pos - the position of the player\n",
    "#     g - number of games the player was in\n",
    "#     gs - number of games the player started\n",
    "#     pts - total points the player scored\n",
    "#     There are many more columns in the data, mostly containing information about average player game performance over the \n",
    "#     course of the season. See this site for an explanation of the rest of them.\n",
    "    \n",
    "# We can read our dataset in and figure out which columns are present:\n",
    "#     import pandas\n",
    "#     with open(\"nba_2013.csv\", 'r') as csvfile:\n",
    "#     nba = pandas.read_csv(csvfile)"
   ]
  },
  {
   "cell_type": "markdown",
   "metadata": {},
   "source": [
    "# Load libraries"
   ]
  },
  {
   "cell_type": "code",
   "execution_count": 2,
   "metadata": {
    "ExecuteTime": {
     "end_time": "2018-08-21T19:41:09.620975Z",
     "start_time": "2018-08-21T19:41:08.565766Z"
    }
   },
   "outputs": [],
   "source": [
    "# Core Libraries - Data manipulation and analysis\n",
    "import pandas as pd\n",
    "import numpy as np\n",
    "import math\n",
    "from math import sqrt\n",
    "import matplotlib.pyplot as plt\n",
    "import seaborn as sns\n",
    "  \n",
    "import sklearn\n",
    "from sklearn.neighbors import KNeighborsRegressor\n",
    "from sklearn.model_selection import  train_test_split, cross_val_score, KFold \n",
    "\n",
    "from sklearn import metrics\n",
    "import warnings\n",
    "warnings.filterwarnings('ignore')\n",
    "\n",
    "import pickle"
   ]
  },
  {
   "cell_type": "code",
   "execution_count": 3,
   "metadata": {
    "ExecuteTime": {
     "end_time": "2018-08-21T19:41:09.626928Z",
     "start_time": "2018-08-21T19:41:09.622938Z"
    }
   },
   "outputs": [],
   "source": [
    "pd.set_option(\"display.max_columns\",100) "
   ]
  },
  {
   "cell_type": "markdown",
   "metadata": {
    "ExecuteTime": {
     "end_time": "2018-08-18T19:20:48.535191Z",
     "start_time": "2018-08-18T19:20:48.532168Z"
    }
   },
   "source": [
    "## Load Data"
   ]
  },
  {
   "cell_type": "code",
   "execution_count": 4,
   "metadata": {
    "ExecuteTime": {
     "end_time": "2018-08-21T19:41:09.647903Z",
     "start_time": "2018-08-21T19:41:09.628922Z"
    }
   },
   "outputs": [],
   "source": [
    "nba_df = pd.read_csv('nba_2013.csv')"
   ]
  },
  {
   "cell_type": "markdown",
   "metadata": {
    "ExecuteTime": {
     "end_time": "2018-08-20T19:52:55.839754Z",
     "start_time": "2018-08-20T19:52:55.836763Z"
    }
   },
   "source": [
    "**Go through  Dataset and Data**"
   ]
  },
  {
   "cell_type": "code",
   "execution_count": 5,
   "metadata": {
    "ExecuteTime": {
     "end_time": "2018-08-21T19:41:09.656847Z",
     "start_time": "2018-08-21T19:41:09.649867Z"
    }
   },
   "outputs": [
    {
     "data": {
      "text/plain": [
       "(481, 31)"
      ]
     },
     "execution_count": 5,
     "metadata": {},
     "output_type": "execute_result"
    }
   ],
   "source": [
    "nba_df.shape"
   ]
  },
  {
   "cell_type": "code",
   "execution_count": 6,
   "metadata": {
    "ExecuteTime": {
     "end_time": "2018-08-21T19:41:09.666824Z",
     "start_time": "2018-08-21T19:41:09.659840Z"
    }
   },
   "outputs": [
    {
     "data": {
      "text/plain": [
       "array(['player', 'pos', 'age', 'bref_team_id', 'g', 'gs', 'mp', 'fg',\n",
       "       'fga', 'fg.', 'x3p', 'x3pa', 'x3p.', 'x2p', 'x2pa', 'x2p.', 'efg.',\n",
       "       'ft', 'fta', 'ft.', 'orb', 'drb', 'trb', 'ast', 'stl', 'blk',\n",
       "       'tov', 'pf', 'pts', 'season', 'season_end'], dtype=object)"
      ]
     },
     "execution_count": 6,
     "metadata": {},
     "output_type": "execute_result"
    }
   ],
   "source": [
    "columns = nba_df.columns.values\n",
    "columns"
   ]
  },
  {
   "cell_type": "code",
   "execution_count": 7,
   "metadata": {
    "ExecuteTime": {
     "end_time": "2018-08-21T19:41:09.693750Z",
     "start_time": "2018-08-21T19:41:09.668815Z"
    }
   },
   "outputs": [
    {
     "data": {
      "text/html": [
       "<div>\n",
       "<style scoped>\n",
       "    .dataframe tbody tr th:only-of-type {\n",
       "        vertical-align: middle;\n",
       "    }\n",
       "\n",
       "    .dataframe tbody tr th {\n",
       "        vertical-align: top;\n",
       "    }\n",
       "\n",
       "    .dataframe thead th {\n",
       "        text-align: right;\n",
       "    }\n",
       "</style>\n",
       "<table border=\"1\" class=\"dataframe\">\n",
       "  <thead>\n",
       "    <tr style=\"text-align: right;\">\n",
       "      <th></th>\n",
       "      <th>player</th>\n",
       "      <th>pos</th>\n",
       "      <th>age</th>\n",
       "      <th>bref_team_id</th>\n",
       "      <th>g</th>\n",
       "      <th>gs</th>\n",
       "      <th>mp</th>\n",
       "      <th>fg</th>\n",
       "      <th>fga</th>\n",
       "      <th>fg.</th>\n",
       "      <th>x3p</th>\n",
       "      <th>x3pa</th>\n",
       "      <th>x3p.</th>\n",
       "      <th>x2p</th>\n",
       "      <th>x2pa</th>\n",
       "      <th>x2p.</th>\n",
       "      <th>efg.</th>\n",
       "      <th>ft</th>\n",
       "      <th>fta</th>\n",
       "      <th>ft.</th>\n",
       "      <th>orb</th>\n",
       "      <th>drb</th>\n",
       "      <th>trb</th>\n",
       "      <th>ast</th>\n",
       "      <th>stl</th>\n",
       "      <th>blk</th>\n",
       "      <th>tov</th>\n",
       "      <th>pf</th>\n",
       "      <th>pts</th>\n",
       "      <th>season</th>\n",
       "      <th>season_end</th>\n",
       "    </tr>\n",
       "  </thead>\n",
       "  <tbody>\n",
       "    <tr>\n",
       "      <th>0</th>\n",
       "      <td>Quincy Acy</td>\n",
       "      <td>SF</td>\n",
       "      <td>23</td>\n",
       "      <td>TOT</td>\n",
       "      <td>63</td>\n",
       "      <td>0</td>\n",
       "      <td>847</td>\n",
       "      <td>66</td>\n",
       "      <td>141</td>\n",
       "      <td>0.468</td>\n",
       "      <td>4</td>\n",
       "      <td>15</td>\n",
       "      <td>0.266667</td>\n",
       "      <td>62</td>\n",
       "      <td>126</td>\n",
       "      <td>0.492063</td>\n",
       "      <td>0.482</td>\n",
       "      <td>35</td>\n",
       "      <td>53</td>\n",
       "      <td>0.660</td>\n",
       "      <td>72</td>\n",
       "      <td>144</td>\n",
       "      <td>216</td>\n",
       "      <td>28</td>\n",
       "      <td>23</td>\n",
       "      <td>26</td>\n",
       "      <td>30</td>\n",
       "      <td>122</td>\n",
       "      <td>171</td>\n",
       "      <td>2013-2014</td>\n",
       "      <td>2013</td>\n",
       "    </tr>\n",
       "    <tr>\n",
       "      <th>1</th>\n",
       "      <td>Steven Adams</td>\n",
       "      <td>C</td>\n",
       "      <td>20</td>\n",
       "      <td>OKC</td>\n",
       "      <td>81</td>\n",
       "      <td>20</td>\n",
       "      <td>1197</td>\n",
       "      <td>93</td>\n",
       "      <td>185</td>\n",
       "      <td>0.503</td>\n",
       "      <td>0</td>\n",
       "      <td>0</td>\n",
       "      <td>NaN</td>\n",
       "      <td>93</td>\n",
       "      <td>185</td>\n",
       "      <td>0.502703</td>\n",
       "      <td>0.503</td>\n",
       "      <td>79</td>\n",
       "      <td>136</td>\n",
       "      <td>0.581</td>\n",
       "      <td>142</td>\n",
       "      <td>190</td>\n",
       "      <td>332</td>\n",
       "      <td>43</td>\n",
       "      <td>40</td>\n",
       "      <td>57</td>\n",
       "      <td>71</td>\n",
       "      <td>203</td>\n",
       "      <td>265</td>\n",
       "      <td>2013-2014</td>\n",
       "      <td>2013</td>\n",
       "    </tr>\n",
       "    <tr>\n",
       "      <th>2</th>\n",
       "      <td>Jeff Adrien</td>\n",
       "      <td>PF</td>\n",
       "      <td>27</td>\n",
       "      <td>TOT</td>\n",
       "      <td>53</td>\n",
       "      <td>12</td>\n",
       "      <td>961</td>\n",
       "      <td>143</td>\n",
       "      <td>275</td>\n",
       "      <td>0.520</td>\n",
       "      <td>0</td>\n",
       "      <td>0</td>\n",
       "      <td>NaN</td>\n",
       "      <td>143</td>\n",
       "      <td>275</td>\n",
       "      <td>0.520000</td>\n",
       "      <td>0.520</td>\n",
       "      <td>76</td>\n",
       "      <td>119</td>\n",
       "      <td>0.639</td>\n",
       "      <td>102</td>\n",
       "      <td>204</td>\n",
       "      <td>306</td>\n",
       "      <td>38</td>\n",
       "      <td>24</td>\n",
       "      <td>36</td>\n",
       "      <td>39</td>\n",
       "      <td>108</td>\n",
       "      <td>362</td>\n",
       "      <td>2013-2014</td>\n",
       "      <td>2013</td>\n",
       "    </tr>\n",
       "    <tr>\n",
       "      <th>3</th>\n",
       "      <td>Arron Afflalo</td>\n",
       "      <td>SG</td>\n",
       "      <td>28</td>\n",
       "      <td>ORL</td>\n",
       "      <td>73</td>\n",
       "      <td>73</td>\n",
       "      <td>2552</td>\n",
       "      <td>464</td>\n",
       "      <td>1011</td>\n",
       "      <td>0.459</td>\n",
       "      <td>128</td>\n",
       "      <td>300</td>\n",
       "      <td>0.426667</td>\n",
       "      <td>336</td>\n",
       "      <td>711</td>\n",
       "      <td>0.472574</td>\n",
       "      <td>0.522</td>\n",
       "      <td>274</td>\n",
       "      <td>336</td>\n",
       "      <td>0.815</td>\n",
       "      <td>32</td>\n",
       "      <td>230</td>\n",
       "      <td>262</td>\n",
       "      <td>248</td>\n",
       "      <td>35</td>\n",
       "      <td>3</td>\n",
       "      <td>146</td>\n",
       "      <td>136</td>\n",
       "      <td>1330</td>\n",
       "      <td>2013-2014</td>\n",
       "      <td>2013</td>\n",
       "    </tr>\n",
       "    <tr>\n",
       "      <th>4</th>\n",
       "      <td>Alexis Ajinca</td>\n",
       "      <td>C</td>\n",
       "      <td>25</td>\n",
       "      <td>NOP</td>\n",
       "      <td>56</td>\n",
       "      <td>30</td>\n",
       "      <td>951</td>\n",
       "      <td>136</td>\n",
       "      <td>249</td>\n",
       "      <td>0.546</td>\n",
       "      <td>0</td>\n",
       "      <td>1</td>\n",
       "      <td>0.000000</td>\n",
       "      <td>136</td>\n",
       "      <td>248</td>\n",
       "      <td>0.548387</td>\n",
       "      <td>0.546</td>\n",
       "      <td>56</td>\n",
       "      <td>67</td>\n",
       "      <td>0.836</td>\n",
       "      <td>94</td>\n",
       "      <td>183</td>\n",
       "      <td>277</td>\n",
       "      <td>40</td>\n",
       "      <td>23</td>\n",
       "      <td>46</td>\n",
       "      <td>63</td>\n",
       "      <td>187</td>\n",
       "      <td>328</td>\n",
       "      <td>2013-2014</td>\n",
       "      <td>2013</td>\n",
       "    </tr>\n",
       "  </tbody>\n",
       "</table>\n",
       "</div>"
      ],
      "text/plain": [
       "          player pos  age bref_team_id   g  gs    mp   fg   fga    fg.  x3p  \\\n",
       "0     Quincy Acy  SF   23          TOT  63   0   847   66   141  0.468    4   \n",
       "1   Steven Adams   C   20          OKC  81  20  1197   93   185  0.503    0   \n",
       "2    Jeff Adrien  PF   27          TOT  53  12   961  143   275  0.520    0   \n",
       "3  Arron Afflalo  SG   28          ORL  73  73  2552  464  1011  0.459  128   \n",
       "4  Alexis Ajinca   C   25          NOP  56  30   951  136   249  0.546    0   \n",
       "\n",
       "   x3pa      x3p.  x2p  x2pa      x2p.   efg.   ft  fta    ft.  orb  drb  trb  \\\n",
       "0    15  0.266667   62   126  0.492063  0.482   35   53  0.660   72  144  216   \n",
       "1     0       NaN   93   185  0.502703  0.503   79  136  0.581  142  190  332   \n",
       "2     0       NaN  143   275  0.520000  0.520   76  119  0.639  102  204  306   \n",
       "3   300  0.426667  336   711  0.472574  0.522  274  336  0.815   32  230  262   \n",
       "4     1  0.000000  136   248  0.548387  0.546   56   67  0.836   94  183  277   \n",
       "\n",
       "   ast  stl  blk  tov   pf   pts     season  season_end  \n",
       "0   28   23   26   30  122   171  2013-2014        2013  \n",
       "1   43   40   57   71  203   265  2013-2014        2013  \n",
       "2   38   24   36   39  108   362  2013-2014        2013  \n",
       "3  248   35    3  146  136  1330  2013-2014        2013  \n",
       "4   40   23   46   63  187   328  2013-2014        2013  "
      ]
     },
     "execution_count": 7,
     "metadata": {},
     "output_type": "execute_result"
    }
   ],
   "source": [
    "nba_df.head()"
   ]
  },
  {
   "cell_type": "code",
   "execution_count": 8,
   "metadata": {
    "ExecuteTime": {
     "end_time": "2018-08-21T19:41:09.717687Z",
     "start_time": "2018-08-21T19:41:09.695743Z"
    }
   },
   "outputs": [
    {
     "data": {
      "text/html": [
       "<div>\n",
       "<style scoped>\n",
       "    .dataframe tbody tr th:only-of-type {\n",
       "        vertical-align: middle;\n",
       "    }\n",
       "\n",
       "    .dataframe tbody tr th {\n",
       "        vertical-align: top;\n",
       "    }\n",
       "\n",
       "    .dataframe thead th {\n",
       "        text-align: right;\n",
       "    }\n",
       "</style>\n",
       "<table border=\"1\" class=\"dataframe\">\n",
       "  <thead>\n",
       "    <tr style=\"text-align: right;\">\n",
       "      <th></th>\n",
       "      <th>player</th>\n",
       "      <th>pos</th>\n",
       "      <th>age</th>\n",
       "      <th>bref_team_id</th>\n",
       "      <th>g</th>\n",
       "      <th>gs</th>\n",
       "      <th>mp</th>\n",
       "      <th>fg</th>\n",
       "      <th>fga</th>\n",
       "      <th>fg.</th>\n",
       "      <th>x3p</th>\n",
       "      <th>x3pa</th>\n",
       "      <th>x3p.</th>\n",
       "      <th>x2p</th>\n",
       "      <th>x2pa</th>\n",
       "      <th>x2p.</th>\n",
       "      <th>efg.</th>\n",
       "      <th>ft</th>\n",
       "      <th>fta</th>\n",
       "      <th>ft.</th>\n",
       "      <th>orb</th>\n",
       "      <th>drb</th>\n",
       "      <th>trb</th>\n",
       "      <th>ast</th>\n",
       "      <th>stl</th>\n",
       "      <th>blk</th>\n",
       "      <th>tov</th>\n",
       "      <th>pf</th>\n",
       "      <th>pts</th>\n",
       "      <th>season</th>\n",
       "      <th>season_end</th>\n",
       "    </tr>\n",
       "  </thead>\n",
       "  <tbody>\n",
       "    <tr>\n",
       "      <th>476</th>\n",
       "      <td>Tony Wroten</td>\n",
       "      <td>SG</td>\n",
       "      <td>20</td>\n",
       "      <td>PHI</td>\n",
       "      <td>72</td>\n",
       "      <td>16</td>\n",
       "      <td>1765</td>\n",
       "      <td>345</td>\n",
       "      <td>808</td>\n",
       "      <td>0.427</td>\n",
       "      <td>40</td>\n",
       "      <td>188</td>\n",
       "      <td>0.212766</td>\n",
       "      <td>305</td>\n",
       "      <td>620</td>\n",
       "      <td>0.491935</td>\n",
       "      <td>0.452</td>\n",
       "      <td>209</td>\n",
       "      <td>326</td>\n",
       "      <td>0.641</td>\n",
       "      <td>69</td>\n",
       "      <td>159</td>\n",
       "      <td>228</td>\n",
       "      <td>217</td>\n",
       "      <td>78</td>\n",
       "      <td>16</td>\n",
       "      <td>204</td>\n",
       "      <td>151</td>\n",
       "      <td>939</td>\n",
       "      <td>2013-2014</td>\n",
       "      <td>2013</td>\n",
       "    </tr>\n",
       "    <tr>\n",
       "      <th>477</th>\n",
       "      <td>Nick Young</td>\n",
       "      <td>SG</td>\n",
       "      <td>28</td>\n",
       "      <td>LAL</td>\n",
       "      <td>64</td>\n",
       "      <td>9</td>\n",
       "      <td>1810</td>\n",
       "      <td>387</td>\n",
       "      <td>889</td>\n",
       "      <td>0.435</td>\n",
       "      <td>135</td>\n",
       "      <td>350</td>\n",
       "      <td>0.385714</td>\n",
       "      <td>252</td>\n",
       "      <td>539</td>\n",
       "      <td>0.467532</td>\n",
       "      <td>0.511</td>\n",
       "      <td>235</td>\n",
       "      <td>285</td>\n",
       "      <td>0.825</td>\n",
       "      <td>29</td>\n",
       "      <td>137</td>\n",
       "      <td>166</td>\n",
       "      <td>95</td>\n",
       "      <td>46</td>\n",
       "      <td>12</td>\n",
       "      <td>95</td>\n",
       "      <td>156</td>\n",
       "      <td>1144</td>\n",
       "      <td>2013-2014</td>\n",
       "      <td>2013</td>\n",
       "    </tr>\n",
       "    <tr>\n",
       "      <th>478</th>\n",
       "      <td>Thaddeus Young</td>\n",
       "      <td>PF</td>\n",
       "      <td>25</td>\n",
       "      <td>PHI</td>\n",
       "      <td>79</td>\n",
       "      <td>78</td>\n",
       "      <td>2718</td>\n",
       "      <td>582</td>\n",
       "      <td>1283</td>\n",
       "      <td>0.454</td>\n",
       "      <td>90</td>\n",
       "      <td>292</td>\n",
       "      <td>0.308219</td>\n",
       "      <td>492</td>\n",
       "      <td>991</td>\n",
       "      <td>0.496468</td>\n",
       "      <td>0.489</td>\n",
       "      <td>163</td>\n",
       "      <td>229</td>\n",
       "      <td>0.712</td>\n",
       "      <td>166</td>\n",
       "      <td>310</td>\n",
       "      <td>476</td>\n",
       "      <td>182</td>\n",
       "      <td>167</td>\n",
       "      <td>36</td>\n",
       "      <td>165</td>\n",
       "      <td>213</td>\n",
       "      <td>1417</td>\n",
       "      <td>2013-2014</td>\n",
       "      <td>2013</td>\n",
       "    </tr>\n",
       "    <tr>\n",
       "      <th>479</th>\n",
       "      <td>Cody Zeller</td>\n",
       "      <td>C</td>\n",
       "      <td>21</td>\n",
       "      <td>CHA</td>\n",
       "      <td>82</td>\n",
       "      <td>3</td>\n",
       "      <td>1416</td>\n",
       "      <td>172</td>\n",
       "      <td>404</td>\n",
       "      <td>0.426</td>\n",
       "      <td>0</td>\n",
       "      <td>1</td>\n",
       "      <td>0.000000</td>\n",
       "      <td>172</td>\n",
       "      <td>403</td>\n",
       "      <td>0.426799</td>\n",
       "      <td>0.426</td>\n",
       "      <td>146</td>\n",
       "      <td>200</td>\n",
       "      <td>0.730</td>\n",
       "      <td>118</td>\n",
       "      <td>235</td>\n",
       "      <td>353</td>\n",
       "      <td>92</td>\n",
       "      <td>40</td>\n",
       "      <td>41</td>\n",
       "      <td>87</td>\n",
       "      <td>170</td>\n",
       "      <td>490</td>\n",
       "      <td>2013-2014</td>\n",
       "      <td>2013</td>\n",
       "    </tr>\n",
       "    <tr>\n",
       "      <th>480</th>\n",
       "      <td>Tyler Zeller</td>\n",
       "      <td>C</td>\n",
       "      <td>24</td>\n",
       "      <td>CLE</td>\n",
       "      <td>70</td>\n",
       "      <td>9</td>\n",
       "      <td>1049</td>\n",
       "      <td>156</td>\n",
       "      <td>290</td>\n",
       "      <td>0.538</td>\n",
       "      <td>0</td>\n",
       "      <td>1</td>\n",
       "      <td>0.000000</td>\n",
       "      <td>156</td>\n",
       "      <td>289</td>\n",
       "      <td>0.539792</td>\n",
       "      <td>0.538</td>\n",
       "      <td>87</td>\n",
       "      <td>121</td>\n",
       "      <td>0.719</td>\n",
       "      <td>103</td>\n",
       "      <td>179</td>\n",
       "      <td>282</td>\n",
       "      <td>36</td>\n",
       "      <td>18</td>\n",
       "      <td>38</td>\n",
       "      <td>60</td>\n",
       "      <td>137</td>\n",
       "      <td>399</td>\n",
       "      <td>2013-2014</td>\n",
       "      <td>2013</td>\n",
       "    </tr>\n",
       "  </tbody>\n",
       "</table>\n",
       "</div>"
      ],
      "text/plain": [
       "             player pos  age bref_team_id   g  gs    mp   fg   fga    fg.  \\\n",
       "476     Tony Wroten  SG   20          PHI  72  16  1765  345   808  0.427   \n",
       "477      Nick Young  SG   28          LAL  64   9  1810  387   889  0.435   \n",
       "478  Thaddeus Young  PF   25          PHI  79  78  2718  582  1283  0.454   \n",
       "479     Cody Zeller   C   21          CHA  82   3  1416  172   404  0.426   \n",
       "480    Tyler Zeller   C   24          CLE  70   9  1049  156   290  0.538   \n",
       "\n",
       "     x3p  x3pa      x3p.  x2p  x2pa      x2p.   efg.   ft  fta    ft.  orb  \\\n",
       "476   40   188  0.212766  305   620  0.491935  0.452  209  326  0.641   69   \n",
       "477  135   350  0.385714  252   539  0.467532  0.511  235  285  0.825   29   \n",
       "478   90   292  0.308219  492   991  0.496468  0.489  163  229  0.712  166   \n",
       "479    0     1  0.000000  172   403  0.426799  0.426  146  200  0.730  118   \n",
       "480    0     1  0.000000  156   289  0.539792  0.538   87  121  0.719  103   \n",
       "\n",
       "     drb  trb  ast  stl  blk  tov   pf   pts     season  season_end  \n",
       "476  159  228  217   78   16  204  151   939  2013-2014        2013  \n",
       "477  137  166   95   46   12   95  156  1144  2013-2014        2013  \n",
       "478  310  476  182  167   36  165  213  1417  2013-2014        2013  \n",
       "479  235  353   92   40   41   87  170   490  2013-2014        2013  \n",
       "480  179  282   36   18   38   60  137   399  2013-2014        2013  "
      ]
     },
     "execution_count": 8,
     "metadata": {},
     "output_type": "execute_result"
    }
   ],
   "source": [
    "nba_df.tail()"
   ]
  },
  {
   "cell_type": "code",
   "execution_count": 9,
   "metadata": {
    "ExecuteTime": {
     "end_time": "2018-08-21T19:41:09.739626Z",
     "start_time": "2018-08-21T19:41:09.719690Z"
    }
   },
   "outputs": [
    {
     "name": "stdout",
     "output_type": "stream",
     "text": [
      "<class 'pandas.core.frame.DataFrame'>\n",
      "RangeIndex: 481 entries, 0 to 480\n",
      "Data columns (total 31 columns):\n",
      "player          481 non-null object\n",
      "pos             481 non-null object\n",
      "age             481 non-null int64\n",
      "bref_team_id    481 non-null object\n",
      "g               481 non-null int64\n",
      "gs              481 non-null int64\n",
      "mp              481 non-null int64\n",
      "fg              481 non-null int64\n",
      "fga             481 non-null int64\n",
      "fg.             479 non-null float64\n",
      "x3p             481 non-null int64\n",
      "x3pa            481 non-null int64\n",
      "x3p.            414 non-null float64\n",
      "x2p             481 non-null int64\n",
      "x2pa            481 non-null int64\n",
      "x2p.            478 non-null float64\n",
      "efg.            479 non-null float64\n",
      "ft              481 non-null int64\n",
      "fta             481 non-null int64\n",
      "ft.             461 non-null float64\n",
      "orb             481 non-null int64\n",
      "drb             481 non-null int64\n",
      "trb             481 non-null int64\n",
      "ast             481 non-null int64\n",
      "stl             481 non-null int64\n",
      "blk             481 non-null int64\n",
      "tov             481 non-null int64\n",
      "pf              481 non-null int64\n",
      "pts             481 non-null int64\n",
      "season          481 non-null object\n",
      "season_end      481 non-null int64\n",
      "dtypes: float64(5), int64(22), object(4)\n",
      "memory usage: 116.6+ KB\n"
     ]
    }
   ],
   "source": [
    "nba_df.info()"
   ]
  },
  {
   "cell_type": "markdown",
   "metadata": {
    "ExecuteTime": {
     "end_time": "2018-08-18T19:28:51.307356Z",
     "start_time": "2018-08-18T19:28:50.828717Z"
    }
   },
   "source": [
    "***There are NULL values in the dataset which need to be imputed or removed. Also, there are NULL values in numerical columns but none in the categorical columns***"
   ]
  },
  {
   "cell_type": "code",
   "execution_count": 10,
   "metadata": {
    "ExecuteTime": {
     "end_time": "2018-08-21T19:41:09.749600Z",
     "start_time": "2018-08-21T19:41:09.741621Z"
    }
   },
   "outputs": [
    {
     "data": {
      "text/plain": [
       "float64     5\n",
       "int64      22\n",
       "object      4\n",
       "dtype: int64"
      ]
     },
     "execution_count": 10,
     "metadata": {},
     "output_type": "execute_result"
    }
   ],
   "source": [
    "nba_df.get_dtype_counts()"
   ]
  },
  {
   "cell_type": "markdown",
   "metadata": {},
   "source": [
    "** Data Cleaninig**"
   ]
  },
  {
   "cell_type": "code",
   "execution_count": 11,
   "metadata": {
    "ExecuteTime": {
     "end_time": "2018-08-21T19:41:09.770560Z",
     "start_time": "2018-08-21T19:41:09.752605Z"
    }
   },
   "outputs": [
    {
     "data": {
      "text/plain": [
       "(array(['age', 'g', 'gs', 'mp', 'fg', 'fga', 'fg.', 'x3p', 'x3pa', 'x3p.',\n",
       "        'x2p', 'x2pa', 'x2p.', 'efg.', 'ft', 'fta', 'ft.', 'orb', 'drb',\n",
       "        'trb', 'ast', 'stl', 'blk', 'tov', 'pf', 'pts', 'season_end'],\n",
       "       dtype=object),\n",
       " array(['player', 'pos', 'bref_team_id', 'season'], dtype=object))"
      ]
     },
     "execution_count": 11,
     "metadata": {},
     "output_type": "execute_result"
    }
   ],
   "source": [
    "# Extrat the numerical and categorical columns list\n",
    "num_cols = nba_df.select_dtypes(exclude = 'object').columns.values\n",
    "cat_cols = nba_df.select_dtypes(include = 'object').columns.values\n",
    "num_cols, cat_cols"
   ]
  },
  {
   "cell_type": "markdown",
   "metadata": {},
   "source": [
    "## Clean Numerical Columns"
   ]
  },
  {
   "cell_type": "code",
   "execution_count": 12,
   "metadata": {
    "ExecuteTime": {
     "end_time": "2018-08-21T19:41:09.784507Z",
     "start_time": "2018-08-21T19:41:09.773537Z"
    }
   },
   "outputs": [
    {
     "name": "stdout",
     "output_type": "stream",
     "text": [
      "<class 'pandas.core.frame.DataFrame'>\n",
      "RangeIndex: 481 entries, 0 to 480\n",
      "Data columns (total 27 columns):\n",
      "age           481 non-null int64\n",
      "g             481 non-null int64\n",
      "gs            481 non-null int64\n",
      "mp            481 non-null int64\n",
      "fg            481 non-null int64\n",
      "fga           481 non-null int64\n",
      "fg.           479 non-null float64\n",
      "x3p           481 non-null int64\n",
      "x3pa          481 non-null int64\n",
      "x3p.          414 non-null float64\n",
      "x2p           481 non-null int64\n",
      "x2pa          481 non-null int64\n",
      "x2p.          478 non-null float64\n",
      "efg.          479 non-null float64\n",
      "ft            481 non-null int64\n",
      "fta           481 non-null int64\n",
      "ft.           461 non-null float64\n",
      "orb           481 non-null int64\n",
      "drb           481 non-null int64\n",
      "trb           481 non-null int64\n",
      "ast           481 non-null int64\n",
      "stl           481 non-null int64\n",
      "blk           481 non-null int64\n",
      "tov           481 non-null int64\n",
      "pf            481 non-null int64\n",
      "pts           481 non-null int64\n",
      "season_end    481 non-null int64\n",
      "dtypes: float64(5), int64(22)\n",
      "memory usage: 101.5 KB\n"
     ]
    }
   ],
   "source": [
    "nba_df[num_cols].info()"
   ]
  },
  {
   "cell_type": "markdown",
   "metadata": {},
   "source": [
    "***looking at the information columns 'fg.', 'x3p.', 'x2p.', 'efg.', 'ft.' has null values***"
   ]
  },
  {
   "cell_type": "code",
   "execution_count": 13,
   "metadata": {
    "ExecuteTime": {
     "end_time": "2018-08-21T19:41:09.801461Z",
     "start_time": "2018-08-21T19:41:09.786501Z"
    }
   },
   "outputs": [
    {
     "data": {
      "text/plain": [
       "age            21\n",
       "g              82\n",
       "gs             80\n",
       "mp            433\n",
       "fg            296\n",
       "fga           372\n",
       "fg.           212\n",
       "x3p           134\n",
       "x3pa          221\n",
       "x3p.          272\n",
       "x2p           274\n",
       "x2pa          339\n",
       "x2p.          408\n",
       "efg.          202\n",
       "ft            203\n",
       "fta           231\n",
       "ft.           244\n",
       "orb           155\n",
       "drb           267\n",
       "trb           302\n",
       "ast           230\n",
       "stl           120\n",
       "blk            90\n",
       "tov           180\n",
       "pf            204\n",
       "pts           379\n",
       "season_end      1\n",
       "dtype: int64"
      ]
     },
     "execution_count": 13,
     "metadata": {},
     "output_type": "execute_result"
    }
   ],
   "source": [
    "nba_df[num_cols].nunique()"
   ]
  },
  {
   "cell_type": "markdown",
   "metadata": {},
   "source": [
    "***There is only one unique values in the dataset for season_end column.  So, being a constant value we can ignore the column in our regression.*** "
   ]
  },
  {
   "cell_type": "markdown",
   "metadata": {},
   "source": [
    "** Check the Null values**"
   ]
  },
  {
   "cell_type": "code",
   "execution_count": 14,
   "metadata": {
    "ExecuteTime": {
     "end_time": "2018-08-21T19:41:09.828389Z",
     "start_time": "2018-08-21T19:41:09.803456Z"
    },
    "scrolled": false
   },
   "outputs": [
    {
     "data": {
      "text/html": [
       "<div>\n",
       "<style scoped>\n",
       "    .dataframe tbody tr th:only-of-type {\n",
       "        vertical-align: middle;\n",
       "    }\n",
       "\n",
       "    .dataframe tbody tr th {\n",
       "        vertical-align: top;\n",
       "    }\n",
       "\n",
       "    .dataframe thead th {\n",
       "        text-align: right;\n",
       "    }\n",
       "</style>\n",
       "<table border=\"1\" class=\"dataframe\">\n",
       "  <thead>\n",
       "    <tr style=\"text-align: right;\">\n",
       "      <th></th>\n",
       "      <th>null_percentage</th>\n",
       "      <th>total_null_values</th>\n",
       "    </tr>\n",
       "  </thead>\n",
       "  <tbody>\n",
       "    <tr>\n",
       "      <th>age</th>\n",
       "      <td>0.000000</td>\n",
       "      <td>0</td>\n",
       "    </tr>\n",
       "    <tr>\n",
       "      <th>g</th>\n",
       "      <td>0.000000</td>\n",
       "      <td>0</td>\n",
       "    </tr>\n",
       "    <tr>\n",
       "      <th>gs</th>\n",
       "      <td>0.000000</td>\n",
       "      <td>0</td>\n",
       "    </tr>\n",
       "    <tr>\n",
       "      <th>mp</th>\n",
       "      <td>0.000000</td>\n",
       "      <td>0</td>\n",
       "    </tr>\n",
       "    <tr>\n",
       "      <th>fg</th>\n",
       "      <td>0.000000</td>\n",
       "      <td>0</td>\n",
       "    </tr>\n",
       "    <tr>\n",
       "      <th>fga</th>\n",
       "      <td>0.000000</td>\n",
       "      <td>0</td>\n",
       "    </tr>\n",
       "    <tr>\n",
       "      <th>fg.</th>\n",
       "      <td>0.415800</td>\n",
       "      <td>2</td>\n",
       "    </tr>\n",
       "    <tr>\n",
       "      <th>x3p</th>\n",
       "      <td>0.000000</td>\n",
       "      <td>0</td>\n",
       "    </tr>\n",
       "    <tr>\n",
       "      <th>x3pa</th>\n",
       "      <td>0.000000</td>\n",
       "      <td>0</td>\n",
       "    </tr>\n",
       "    <tr>\n",
       "      <th>x3p.</th>\n",
       "      <td>13.929314</td>\n",
       "      <td>67</td>\n",
       "    </tr>\n",
       "    <tr>\n",
       "      <th>x2p</th>\n",
       "      <td>0.000000</td>\n",
       "      <td>0</td>\n",
       "    </tr>\n",
       "    <tr>\n",
       "      <th>x2pa</th>\n",
       "      <td>0.000000</td>\n",
       "      <td>0</td>\n",
       "    </tr>\n",
       "    <tr>\n",
       "      <th>x2p.</th>\n",
       "      <td>0.623701</td>\n",
       "      <td>3</td>\n",
       "    </tr>\n",
       "    <tr>\n",
       "      <th>efg.</th>\n",
       "      <td>0.415800</td>\n",
       "      <td>2</td>\n",
       "    </tr>\n",
       "    <tr>\n",
       "      <th>ft</th>\n",
       "      <td>0.000000</td>\n",
       "      <td>0</td>\n",
       "    </tr>\n",
       "    <tr>\n",
       "      <th>fta</th>\n",
       "      <td>0.000000</td>\n",
       "      <td>0</td>\n",
       "    </tr>\n",
       "    <tr>\n",
       "      <th>ft.</th>\n",
       "      <td>4.158004</td>\n",
       "      <td>20</td>\n",
       "    </tr>\n",
       "    <tr>\n",
       "      <th>orb</th>\n",
       "      <td>0.000000</td>\n",
       "      <td>0</td>\n",
       "    </tr>\n",
       "    <tr>\n",
       "      <th>drb</th>\n",
       "      <td>0.000000</td>\n",
       "      <td>0</td>\n",
       "    </tr>\n",
       "    <tr>\n",
       "      <th>trb</th>\n",
       "      <td>0.000000</td>\n",
       "      <td>0</td>\n",
       "    </tr>\n",
       "    <tr>\n",
       "      <th>ast</th>\n",
       "      <td>0.000000</td>\n",
       "      <td>0</td>\n",
       "    </tr>\n",
       "    <tr>\n",
       "      <th>stl</th>\n",
       "      <td>0.000000</td>\n",
       "      <td>0</td>\n",
       "    </tr>\n",
       "    <tr>\n",
       "      <th>blk</th>\n",
       "      <td>0.000000</td>\n",
       "      <td>0</td>\n",
       "    </tr>\n",
       "    <tr>\n",
       "      <th>tov</th>\n",
       "      <td>0.000000</td>\n",
       "      <td>0</td>\n",
       "    </tr>\n",
       "    <tr>\n",
       "      <th>pf</th>\n",
       "      <td>0.000000</td>\n",
       "      <td>0</td>\n",
       "    </tr>\n",
       "    <tr>\n",
       "      <th>pts</th>\n",
       "      <td>0.000000</td>\n",
       "      <td>0</td>\n",
       "    </tr>\n",
       "    <tr>\n",
       "      <th>season_end</th>\n",
       "      <td>0.000000</td>\n",
       "      <td>0</td>\n",
       "    </tr>\n",
       "  </tbody>\n",
       "</table>\n",
       "</div>"
      ],
      "text/plain": [
       "            null_percentage  total_null_values\n",
       "age                0.000000                  0\n",
       "g                  0.000000                  0\n",
       "gs                 0.000000                  0\n",
       "mp                 0.000000                  0\n",
       "fg                 0.000000                  0\n",
       "fga                0.000000                  0\n",
       "fg.                0.415800                  2\n",
       "x3p                0.000000                  0\n",
       "x3pa               0.000000                  0\n",
       "x3p.              13.929314                 67\n",
       "x2p                0.000000                  0\n",
       "x2pa               0.000000                  0\n",
       "x2p.               0.623701                  3\n",
       "efg.               0.415800                  2\n",
       "ft                 0.000000                  0\n",
       "fta                0.000000                  0\n",
       "ft.                4.158004                 20\n",
       "orb                0.000000                  0\n",
       "drb                0.000000                  0\n",
       "trb                0.000000                  0\n",
       "ast                0.000000                  0\n",
       "stl                0.000000                  0\n",
       "blk                0.000000                  0\n",
       "tov                0.000000                  0\n",
       "pf                 0.000000                  0\n",
       "pts                0.000000                  0\n",
       "season_end         0.000000                  0"
      ]
     },
     "execution_count": 14,
     "metadata": {},
     "output_type": "execute_result"
    }
   ],
   "source": [
    "nba_null_values = pd.DataFrame({'total_null_values': nba_df[num_cols].isna().sum(), 'null_percentage': (nba_df[num_cols].isna().sum()/nba_df.shape[0])*100})\n",
    "nba_null_values "
   ]
  },
  {
   "cell_type": "markdown",
   "metadata": {},
   "source": [
    "***Since one of the rows has higher percentage of NaN/Null values and also because this is a small dataset, it is better to impute.***"
   ]
  },
  {
   "cell_type": "code",
   "execution_count": 15,
   "metadata": {
    "ExecuteTime": {
     "end_time": "2018-08-21T19:41:09.865289Z",
     "start_time": "2018-08-21T19:41:09.841355Z"
    },
    "scrolled": false
   },
   "outputs": [
    {
     "data": {
      "text/html": [
       "<div>\n",
       "<style scoped>\n",
       "    .dataframe tbody tr th:only-of-type {\n",
       "        vertical-align: middle;\n",
       "    }\n",
       "\n",
       "    .dataframe tbody tr th {\n",
       "        vertical-align: top;\n",
       "    }\n",
       "\n",
       "    .dataframe thead th {\n",
       "        text-align: right;\n",
       "    }\n",
       "</style>\n",
       "<table border=\"1\" class=\"dataframe\">\n",
       "  <thead>\n",
       "    <tr style=\"text-align: right;\">\n",
       "      <th></th>\n",
       "      <th>player</th>\n",
       "      <th>pos</th>\n",
       "      <th>age</th>\n",
       "      <th>bref_team_id</th>\n",
       "      <th>g</th>\n",
       "      <th>gs</th>\n",
       "      <th>mp</th>\n",
       "      <th>fg</th>\n",
       "      <th>fga</th>\n",
       "      <th>fg.</th>\n",
       "      <th>x3p</th>\n",
       "      <th>x3pa</th>\n",
       "      <th>x3p.</th>\n",
       "      <th>x2p</th>\n",
       "      <th>x2pa</th>\n",
       "      <th>x2p.</th>\n",
       "      <th>efg.</th>\n",
       "      <th>ft</th>\n",
       "      <th>fta</th>\n",
       "      <th>ft.</th>\n",
       "      <th>orb</th>\n",
       "      <th>drb</th>\n",
       "      <th>trb</th>\n",
       "      <th>ast</th>\n",
       "      <th>stl</th>\n",
       "      <th>blk</th>\n",
       "      <th>tov</th>\n",
       "      <th>pf</th>\n",
       "      <th>pts</th>\n",
       "      <th>season</th>\n",
       "      <th>season_end</th>\n",
       "    </tr>\n",
       "  </thead>\n",
       "  <tbody>\n",
       "    <tr>\n",
       "      <th>1</th>\n",
       "      <td>Steven Adams</td>\n",
       "      <td>C</td>\n",
       "      <td>20</td>\n",
       "      <td>OKC</td>\n",
       "      <td>81</td>\n",
       "      <td>20</td>\n",
       "      <td>1197</td>\n",
       "      <td>93</td>\n",
       "      <td>185</td>\n",
       "      <td>0.503</td>\n",
       "      <td>0</td>\n",
       "      <td>0</td>\n",
       "      <td>NaN</td>\n",
       "      <td>93</td>\n",
       "      <td>185</td>\n",
       "      <td>0.502703</td>\n",
       "      <td>0.503</td>\n",
       "      <td>79</td>\n",
       "      <td>136</td>\n",
       "      <td>0.581</td>\n",
       "      <td>142</td>\n",
       "      <td>190</td>\n",
       "      <td>332</td>\n",
       "      <td>43</td>\n",
       "      <td>40</td>\n",
       "      <td>57</td>\n",
       "      <td>71</td>\n",
       "      <td>203</td>\n",
       "      <td>265</td>\n",
       "      <td>2013-2014</td>\n",
       "      <td>2013</td>\n",
       "    </tr>\n",
       "    <tr>\n",
       "      <th>2</th>\n",
       "      <td>Jeff Adrien</td>\n",
       "      <td>PF</td>\n",
       "      <td>27</td>\n",
       "      <td>TOT</td>\n",
       "      <td>53</td>\n",
       "      <td>12</td>\n",
       "      <td>961</td>\n",
       "      <td>143</td>\n",
       "      <td>275</td>\n",
       "      <td>0.520</td>\n",
       "      <td>0</td>\n",
       "      <td>0</td>\n",
       "      <td>NaN</td>\n",
       "      <td>143</td>\n",
       "      <td>275</td>\n",
       "      <td>0.520000</td>\n",
       "      <td>0.520</td>\n",
       "      <td>76</td>\n",
       "      <td>119</td>\n",
       "      <td>0.639</td>\n",
       "      <td>102</td>\n",
       "      <td>204</td>\n",
       "      <td>306</td>\n",
       "      <td>38</td>\n",
       "      <td>24</td>\n",
       "      <td>36</td>\n",
       "      <td>39</td>\n",
       "      <td>108</td>\n",
       "      <td>362</td>\n",
       "      <td>2013-2014</td>\n",
       "      <td>2013</td>\n",
       "    </tr>\n",
       "    <tr>\n",
       "      <th>5</th>\n",
       "      <td>Cole Aldrich</td>\n",
       "      <td>C</td>\n",
       "      <td>25</td>\n",
       "      <td>NYK</td>\n",
       "      <td>46</td>\n",
       "      <td>2</td>\n",
       "      <td>330</td>\n",
       "      <td>33</td>\n",
       "      <td>61</td>\n",
       "      <td>0.541</td>\n",
       "      <td>0</td>\n",
       "      <td>0</td>\n",
       "      <td>NaN</td>\n",
       "      <td>33</td>\n",
       "      <td>61</td>\n",
       "      <td>0.540984</td>\n",
       "      <td>0.541</td>\n",
       "      <td>26</td>\n",
       "      <td>30</td>\n",
       "      <td>0.867</td>\n",
       "      <td>37</td>\n",
       "      <td>92</td>\n",
       "      <td>129</td>\n",
       "      <td>14</td>\n",
       "      <td>8</td>\n",
       "      <td>30</td>\n",
       "      <td>18</td>\n",
       "      <td>40</td>\n",
       "      <td>92</td>\n",
       "      <td>2013-2014</td>\n",
       "      <td>2013</td>\n",
       "    </tr>\n",
       "    <tr>\n",
       "      <th>11</th>\n",
       "      <td>Louis Amundson</td>\n",
       "      <td>PF</td>\n",
       "      <td>31</td>\n",
       "      <td>TOT</td>\n",
       "      <td>19</td>\n",
       "      <td>0</td>\n",
       "      <td>185</td>\n",
       "      <td>16</td>\n",
       "      <td>32</td>\n",
       "      <td>0.500</td>\n",
       "      <td>0</td>\n",
       "      <td>0</td>\n",
       "      <td>NaN</td>\n",
       "      <td>16</td>\n",
       "      <td>32</td>\n",
       "      <td>0.500000</td>\n",
       "      <td>0.500</td>\n",
       "      <td>6</td>\n",
       "      <td>24</td>\n",
       "      <td>0.250</td>\n",
       "      <td>28</td>\n",
       "      <td>27</td>\n",
       "      <td>55</td>\n",
       "      <td>6</td>\n",
       "      <td>9</td>\n",
       "      <td>11</td>\n",
       "      <td>14</td>\n",
       "      <td>49</td>\n",
       "      <td>38</td>\n",
       "      <td>2013-2014</td>\n",
       "      <td>2013</td>\n",
       "    </tr>\n",
       "    <tr>\n",
       "      <th>18</th>\n",
       "      <td>Joel Anthony</td>\n",
       "      <td>C</td>\n",
       "      <td>31</td>\n",
       "      <td>TOT</td>\n",
       "      <td>33</td>\n",
       "      <td>0</td>\n",
       "      <td>186</td>\n",
       "      <td>12</td>\n",
       "      <td>32</td>\n",
       "      <td>0.375</td>\n",
       "      <td>0</td>\n",
       "      <td>0</td>\n",
       "      <td>NaN</td>\n",
       "      <td>12</td>\n",
       "      <td>32</td>\n",
       "      <td>0.375000</td>\n",
       "      <td>0.375</td>\n",
       "      <td>4</td>\n",
       "      <td>8</td>\n",
       "      <td>0.500</td>\n",
       "      <td>15</td>\n",
       "      <td>23</td>\n",
       "      <td>38</td>\n",
       "      <td>2</td>\n",
       "      <td>3</td>\n",
       "      <td>12</td>\n",
       "      <td>3</td>\n",
       "      <td>17</td>\n",
       "      <td>28</td>\n",
       "      <td>2013-2014</td>\n",
       "      <td>2013</td>\n",
       "    </tr>\n",
       "  </tbody>\n",
       "</table>\n",
       "</div>"
      ],
      "text/plain": [
       "            player pos  age bref_team_id   g  gs    mp   fg  fga    fg.  x3p  \\\n",
       "1     Steven Adams   C   20          OKC  81  20  1197   93  185  0.503    0   \n",
       "2      Jeff Adrien  PF   27          TOT  53  12   961  143  275  0.520    0   \n",
       "5     Cole Aldrich   C   25          NYK  46   2   330   33   61  0.541    0   \n",
       "11  Louis Amundson  PF   31          TOT  19   0   185   16   32  0.500    0   \n",
       "18    Joel Anthony   C   31          TOT  33   0   186   12   32  0.375    0   \n",
       "\n",
       "    x3pa  x3p.  x2p  x2pa      x2p.   efg.  ft  fta    ft.  orb  drb  trb  \\\n",
       "1      0   NaN   93   185  0.502703  0.503  79  136  0.581  142  190  332   \n",
       "2      0   NaN  143   275  0.520000  0.520  76  119  0.639  102  204  306   \n",
       "5      0   NaN   33    61  0.540984  0.541  26   30  0.867   37   92  129   \n",
       "11     0   NaN   16    32  0.500000  0.500   6   24  0.250   28   27   55   \n",
       "18     0   NaN   12    32  0.375000  0.375   4    8  0.500   15   23   38   \n",
       "\n",
       "    ast  stl  blk  tov   pf  pts     season  season_end  \n",
       "1    43   40   57   71  203  265  2013-2014        2013  \n",
       "2    38   24   36   39  108  362  2013-2014        2013  \n",
       "5    14    8   30   18   40   92  2013-2014        2013  \n",
       "11    6    9   11   14   49   38  2013-2014        2013  \n",
       "18    2    3   12    3   17   28  2013-2014        2013  "
      ]
     },
     "execution_count": 15,
     "metadata": {},
     "output_type": "execute_result"
    }
   ],
   "source": [
    "nba_df.loc[(nba_df.isna()).any(axis=1),:].head()"
   ]
  },
  {
   "cell_type": "code",
   "execution_count": 16,
   "metadata": {
    "ExecuteTime": {
     "end_time": "2018-08-21T19:41:09.880250Z",
     "start_time": "2018-08-21T19:41:09.867285Z"
    }
   },
   "outputs": [],
   "source": [
    "nba_df.interpolate(value=np.NaN, method='nearest', axis=0, inplace=True)\n"
   ]
  },
  {
   "cell_type": "code",
   "execution_count": 17,
   "metadata": {
    "ExecuteTime": {
     "end_time": "2018-08-21T19:41:09.891221Z",
     "start_time": "2018-08-21T19:41:09.882244Z"
    }
   },
   "outputs": [
    {
     "data": {
      "text/plain": [
       "(0, 31)"
      ]
     },
     "execution_count": 17,
     "metadata": {},
     "output_type": "execute_result"
    }
   ],
   "source": [
    "nba_df.loc[(nba_df.isna()).any(axis=1),:].shape"
   ]
  },
  {
   "cell_type": "markdown",
   "metadata": {},
   "source": [
    "### 0s"
   ]
  },
  {
   "cell_type": "code",
   "execution_count": 18,
   "metadata": {
    "ExecuteTime": {
     "end_time": "2018-08-21T19:41:09.903188Z",
     "start_time": "2018-08-21T19:41:09.893216Z"
    }
   },
   "outputs": [
    {
     "data": {
      "text/plain": [
       "(0, 31)"
      ]
     },
     "execution_count": 18,
     "metadata": {},
     "output_type": "execute_result"
    }
   ],
   "source": [
    "nba_df.loc[(nba_df==0).all(axis=1),:].shape"
   ]
  },
  {
   "cell_type": "markdown",
   "metadata": {},
   "source": [
    "***No rows with all columns values == 0***"
   ]
  },
  {
   "cell_type": "code",
   "execution_count": 19,
   "metadata": {
    "ExecuteTime": {
     "end_time": "2018-08-21T19:41:09.915157Z",
     "start_time": "2018-08-21T19:41:09.905183Z"
    }
   },
   "outputs": [
    {
     "data": {
      "text/plain": [
       "(222, 31)"
      ]
     },
     "execution_count": 19,
     "metadata": {},
     "output_type": "execute_result"
    }
   ],
   "source": [
    "nba_df.loc[(nba_df==0).any(axis=1),:].shape"
   ]
  },
  {
   "cell_type": "code",
   "execution_count": 20,
   "metadata": {
    "ExecuteTime": {
     "end_time": "2018-08-21T19:41:09.944079Z",
     "start_time": "2018-08-21T19:41:09.918148Z"
    }
   },
   "outputs": [
    {
     "data": {
      "text/html": [
       "<div>\n",
       "<style scoped>\n",
       "    .dataframe tbody tr th:only-of-type {\n",
       "        vertical-align: middle;\n",
       "    }\n",
       "\n",
       "    .dataframe tbody tr th {\n",
       "        vertical-align: top;\n",
       "    }\n",
       "\n",
       "    .dataframe thead th {\n",
       "        text-align: right;\n",
       "    }\n",
       "</style>\n",
       "<table border=\"1\" class=\"dataframe\">\n",
       "  <thead>\n",
       "    <tr style=\"text-align: right;\">\n",
       "      <th></th>\n",
       "      <th>player</th>\n",
       "      <th>pos</th>\n",
       "      <th>age</th>\n",
       "      <th>bref_team_id</th>\n",
       "      <th>g</th>\n",
       "      <th>gs</th>\n",
       "      <th>mp</th>\n",
       "      <th>fg</th>\n",
       "      <th>fga</th>\n",
       "      <th>fg.</th>\n",
       "      <th>x3p</th>\n",
       "      <th>x3pa</th>\n",
       "      <th>x3p.</th>\n",
       "      <th>x2p</th>\n",
       "      <th>x2pa</th>\n",
       "      <th>x2p.</th>\n",
       "      <th>efg.</th>\n",
       "      <th>ft</th>\n",
       "      <th>fta</th>\n",
       "      <th>ft.</th>\n",
       "      <th>orb</th>\n",
       "      <th>drb</th>\n",
       "      <th>trb</th>\n",
       "      <th>ast</th>\n",
       "      <th>stl</th>\n",
       "      <th>blk</th>\n",
       "      <th>tov</th>\n",
       "      <th>pf</th>\n",
       "      <th>pts</th>\n",
       "      <th>season</th>\n",
       "      <th>season_end</th>\n",
       "    </tr>\n",
       "  </thead>\n",
       "  <tbody>\n",
       "    <tr>\n",
       "      <th>0</th>\n",
       "      <td>Quincy Acy</td>\n",
       "      <td>SF</td>\n",
       "      <td>23</td>\n",
       "      <td>TOT</td>\n",
       "      <td>63</td>\n",
       "      <td>0</td>\n",
       "      <td>847</td>\n",
       "      <td>66</td>\n",
       "      <td>141</td>\n",
       "      <td>0.468</td>\n",
       "      <td>4</td>\n",
       "      <td>15</td>\n",
       "      <td>0.266667</td>\n",
       "      <td>62</td>\n",
       "      <td>126</td>\n",
       "      <td>0.492063</td>\n",
       "      <td>0.482</td>\n",
       "      <td>35</td>\n",
       "      <td>53</td>\n",
       "      <td>0.660</td>\n",
       "      <td>72</td>\n",
       "      <td>144</td>\n",
       "      <td>216</td>\n",
       "      <td>28</td>\n",
       "      <td>23</td>\n",
       "      <td>26</td>\n",
       "      <td>30</td>\n",
       "      <td>122</td>\n",
       "      <td>171</td>\n",
       "      <td>2013-2014</td>\n",
       "      <td>2013</td>\n",
       "    </tr>\n",
       "    <tr>\n",
       "      <th>1</th>\n",
       "      <td>Steven Adams</td>\n",
       "      <td>C</td>\n",
       "      <td>20</td>\n",
       "      <td>OKC</td>\n",
       "      <td>81</td>\n",
       "      <td>20</td>\n",
       "      <td>1197</td>\n",
       "      <td>93</td>\n",
       "      <td>185</td>\n",
       "      <td>0.503</td>\n",
       "      <td>0</td>\n",
       "      <td>0</td>\n",
       "      <td>0.266667</td>\n",
       "      <td>93</td>\n",
       "      <td>185</td>\n",
       "      <td>0.502703</td>\n",
       "      <td>0.503</td>\n",
       "      <td>79</td>\n",
       "      <td>136</td>\n",
       "      <td>0.581</td>\n",
       "      <td>142</td>\n",
       "      <td>190</td>\n",
       "      <td>332</td>\n",
       "      <td>43</td>\n",
       "      <td>40</td>\n",
       "      <td>57</td>\n",
       "      <td>71</td>\n",
       "      <td>203</td>\n",
       "      <td>265</td>\n",
       "      <td>2013-2014</td>\n",
       "      <td>2013</td>\n",
       "    </tr>\n",
       "    <tr>\n",
       "      <th>2</th>\n",
       "      <td>Jeff Adrien</td>\n",
       "      <td>PF</td>\n",
       "      <td>27</td>\n",
       "      <td>TOT</td>\n",
       "      <td>53</td>\n",
       "      <td>12</td>\n",
       "      <td>961</td>\n",
       "      <td>143</td>\n",
       "      <td>275</td>\n",
       "      <td>0.520</td>\n",
       "      <td>0</td>\n",
       "      <td>0</td>\n",
       "      <td>0.426667</td>\n",
       "      <td>143</td>\n",
       "      <td>275</td>\n",
       "      <td>0.520000</td>\n",
       "      <td>0.520</td>\n",
       "      <td>76</td>\n",
       "      <td>119</td>\n",
       "      <td>0.639</td>\n",
       "      <td>102</td>\n",
       "      <td>204</td>\n",
       "      <td>306</td>\n",
       "      <td>38</td>\n",
       "      <td>24</td>\n",
       "      <td>36</td>\n",
       "      <td>39</td>\n",
       "      <td>108</td>\n",
       "      <td>362</td>\n",
       "      <td>2013-2014</td>\n",
       "      <td>2013</td>\n",
       "    </tr>\n",
       "    <tr>\n",
       "      <th>4</th>\n",
       "      <td>Alexis Ajinca</td>\n",
       "      <td>C</td>\n",
       "      <td>25</td>\n",
       "      <td>NOP</td>\n",
       "      <td>56</td>\n",
       "      <td>30</td>\n",
       "      <td>951</td>\n",
       "      <td>136</td>\n",
       "      <td>249</td>\n",
       "      <td>0.546</td>\n",
       "      <td>0</td>\n",
       "      <td>1</td>\n",
       "      <td>0.000000</td>\n",
       "      <td>136</td>\n",
       "      <td>248</td>\n",
       "      <td>0.548387</td>\n",
       "      <td>0.546</td>\n",
       "      <td>56</td>\n",
       "      <td>67</td>\n",
       "      <td>0.836</td>\n",
       "      <td>94</td>\n",
       "      <td>183</td>\n",
       "      <td>277</td>\n",
       "      <td>40</td>\n",
       "      <td>23</td>\n",
       "      <td>46</td>\n",
       "      <td>63</td>\n",
       "      <td>187</td>\n",
       "      <td>328</td>\n",
       "      <td>2013-2014</td>\n",
       "      <td>2013</td>\n",
       "    </tr>\n",
       "    <tr>\n",
       "      <th>5</th>\n",
       "      <td>Cole Aldrich</td>\n",
       "      <td>C</td>\n",
       "      <td>25</td>\n",
       "      <td>NYK</td>\n",
       "      <td>46</td>\n",
       "      <td>2</td>\n",
       "      <td>330</td>\n",
       "      <td>33</td>\n",
       "      <td>61</td>\n",
       "      <td>0.541</td>\n",
       "      <td>0</td>\n",
       "      <td>0</td>\n",
       "      <td>0.000000</td>\n",
       "      <td>33</td>\n",
       "      <td>61</td>\n",
       "      <td>0.540984</td>\n",
       "      <td>0.541</td>\n",
       "      <td>26</td>\n",
       "      <td>30</td>\n",
       "      <td>0.867</td>\n",
       "      <td>37</td>\n",
       "      <td>92</td>\n",
       "      <td>129</td>\n",
       "      <td>14</td>\n",
       "      <td>8</td>\n",
       "      <td>30</td>\n",
       "      <td>18</td>\n",
       "      <td>40</td>\n",
       "      <td>92</td>\n",
       "      <td>2013-2014</td>\n",
       "      <td>2013</td>\n",
       "    </tr>\n",
       "  </tbody>\n",
       "</table>\n",
       "</div>"
      ],
      "text/plain": [
       "          player pos  age bref_team_id   g  gs    mp   fg  fga    fg.  x3p  \\\n",
       "0     Quincy Acy  SF   23          TOT  63   0   847   66  141  0.468    4   \n",
       "1   Steven Adams   C   20          OKC  81  20  1197   93  185  0.503    0   \n",
       "2    Jeff Adrien  PF   27          TOT  53  12   961  143  275  0.520    0   \n",
       "4  Alexis Ajinca   C   25          NOP  56  30   951  136  249  0.546    0   \n",
       "5   Cole Aldrich   C   25          NYK  46   2   330   33   61  0.541    0   \n",
       "\n",
       "   x3pa      x3p.  x2p  x2pa      x2p.   efg.  ft  fta    ft.  orb  drb  trb  \\\n",
       "0    15  0.266667   62   126  0.492063  0.482  35   53  0.660   72  144  216   \n",
       "1     0  0.266667   93   185  0.502703  0.503  79  136  0.581  142  190  332   \n",
       "2     0  0.426667  143   275  0.520000  0.520  76  119  0.639  102  204  306   \n",
       "4     1  0.000000  136   248  0.548387  0.546  56   67  0.836   94  183  277   \n",
       "5     0  0.000000   33    61  0.540984  0.541  26   30  0.867   37   92  129   \n",
       "\n",
       "   ast  stl  blk  tov   pf  pts     season  season_end  \n",
       "0   28   23   26   30  122  171  2013-2014        2013  \n",
       "1   43   40   57   71  203  265  2013-2014        2013  \n",
       "2   38   24   36   39  108  362  2013-2014        2013  \n",
       "4   40   23   46   63  187  328  2013-2014        2013  \n",
       "5   14    8   30   18   40   92  2013-2014        2013  "
      ]
     },
     "execution_count": 20,
     "metadata": {},
     "output_type": "execute_result"
    }
   ],
   "source": [
    "nba_df.loc[(nba_df==0).any(axis=1),:].head()"
   ]
  },
  {
   "cell_type": "markdown",
   "metadata": {},
   "source": [
    "***The zeroes in the dataset seem to be valid zeros. So, no cleaning is required***"
   ]
  },
  {
   "cell_type": "markdown",
   "metadata": {},
   "source": [
    "## Clean Categorical Columns"
   ]
  },
  {
   "cell_type": "code",
   "execution_count": 21,
   "metadata": {
    "ExecuteTime": {
     "end_time": "2018-08-21T19:41:10.209402Z",
     "start_time": "2018-08-21T19:41:10.200393Z"
    },
    "scrolled": true
   },
   "outputs": [
    {
     "name": "stdout",
     "output_type": "stream",
     "text": [
      "<class 'pandas.core.frame.DataFrame'>\n",
      "RangeIndex: 481 entries, 0 to 480\n",
      "Data columns (total 4 columns):\n",
      "player          481 non-null object\n",
      "pos             481 non-null object\n",
      "bref_team_id    481 non-null object\n",
      "season          481 non-null object\n",
      "dtypes: object(4)\n",
      "memory usage: 15.1+ KB\n"
     ]
    }
   ],
   "source": [
    "nba_df[cat_cols].info()"
   ]
  },
  {
   "cell_type": "markdown",
   "metadata": {},
   "source": [
    "***There are no null values in the categorical columns***"
   ]
  },
  {
   "cell_type": "code",
   "execution_count": 22,
   "metadata": {
    "ExecuteTime": {
     "end_time": "2018-08-21T19:41:10.760895Z",
     "start_time": "2018-08-21T19:41:10.749927Z"
    }
   },
   "outputs": [
    {
     "data": {
      "text/plain": [
       "481"
      ]
     },
     "execution_count": 22,
     "metadata": {},
     "output_type": "execute_result"
    }
   ],
   "source": [
    "nba_df['player'].nunique()"
   ]
  },
  {
   "cell_type": "code",
   "execution_count": 23,
   "metadata": {
    "ExecuteTime": {
     "end_time": "2018-08-21T19:41:10.774883Z",
     "start_time": "2018-08-21T19:41:10.763888Z"
    }
   },
   "outputs": [
    {
     "data": {
      "text/plain": [
       "array(['TOT', 'OKC', 'ORL', 'NOP', 'NYK', 'POR', 'MIA', 'MEM', 'BRK',\n",
       "       'PHI', 'MIL', 'ATL', 'WAS', 'GSW', 'DEN', 'HOU', 'SAS', 'BOS',\n",
       "       'PHO', 'MIN', 'LAC', 'CLE', 'UTA', 'DET', 'CHA', 'DAL', 'CHI',\n",
       "       'LAL', 'IND', 'TOR', 'SAC'], dtype=object)"
      ]
     },
     "execution_count": 23,
     "metadata": {},
     "output_type": "execute_result"
    }
   ],
   "source": [
    "nba_df['bref_team_id'].unique()"
   ]
  },
  {
   "cell_type": "code",
   "execution_count": 24,
   "metadata": {
    "ExecuteTime": {
     "end_time": "2018-08-21T19:41:10.786824Z",
     "start_time": "2018-08-21T19:41:10.777849Z"
    }
   },
   "outputs": [
    {
     "data": {
      "text/plain": [
       "31"
      ]
     },
     "execution_count": 24,
     "metadata": {},
     "output_type": "execute_result"
    }
   ],
   "source": [
    "nba_df['bref_team_id'].nunique()"
   ]
  },
  {
   "cell_type": "code",
   "execution_count": 25,
   "metadata": {
    "ExecuteTime": {
     "end_time": "2018-08-21T19:41:11.087032Z",
     "start_time": "2018-08-21T19:41:10.789817Z"
    }
   },
   "outputs": [
    {
     "data": {
      "text/plain": [
       "<matplotlib.axes._subplots.AxesSubplot at 0x1a72eea4f98>"
      ]
     },
     "execution_count": 25,
     "metadata": {},
     "output_type": "execute_result"
    },
    {
     "data": {
      "image/png": "[encoded data removed]",
      "text/plain": [
       "<matplotlib.figure.Figure at 0x1a72edf0f98>"
      ]
     },
     "metadata": {},
     "output_type": "display_data"
    }
   ],
   "source": [
    "plt.figure(figsize = (20,5))\n",
    "sns.countplot(x = nba_df['bref_team_id'], data = nba_df)"
   ]
  },
  {
   "cell_type": "markdown",
   "metadata": {},
   "source": [
    "***It is observed that there many players from the Team with Team ID == TOT. This might introduce a bias in training of the regression. Therefore, it needs checking. TOT is used when a player has represented more than one team in a season.And the values associated with that player's row are the combined stats(Refered: http://stats.nba.com/teams/ and https://www.reddit.com/r/nba/comments/7lt7qz/what_does_tot_mean_on_basketballreferencecom/)***\n",
    "\n"
   ]
  },
  {
   "cell_type": "markdown",
   "metadata": {},
   "source": [
    "***The value TOT is a valid value in this dataset***"
   ]
  },
  {
   "cell_type": "code",
   "execution_count": 26,
   "metadata": {
    "ExecuteTime": {
     "end_time": "2018-08-21T19:41:11.094004Z",
     "start_time": "2018-08-21T19:41:11.089018Z"
    }
   },
   "outputs": [
    {
     "data": {
      "text/plain": [
       "array(['SF', 'C', 'PF', 'SG', 'PG', 'G', 'F'], dtype=object)"
      ]
     },
     "execution_count": 26,
     "metadata": {},
     "output_type": "execute_result"
    }
   ],
   "source": [
    "nba_df['pos'].unique()"
   ]
  },
  {
   "cell_type": "code",
   "execution_count": 27,
   "metadata": {
    "ExecuteTime": {
     "end_time": "2018-08-21T19:41:11.104975Z",
     "start_time": "2018-08-21T19:41:11.096996Z"
    }
   },
   "outputs": [
    {
     "data": {
      "text/plain": [
       "7"
      ]
     },
     "execution_count": 27,
     "metadata": {},
     "output_type": "execute_result"
    }
   ],
   "source": [
    "nba_df['pos'].nunique()"
   ]
  },
  {
   "cell_type": "code",
   "execution_count": 28,
   "metadata": {
    "ExecuteTime": {
     "end_time": "2018-08-21T19:41:11.267539Z",
     "start_time": "2018-08-21T19:41:11.106969Z"
    }
   },
   "outputs": [
    {
     "data": {
      "text/plain": [
       "<matplotlib.axes._subplots.AxesSubplot at 0x1a72edcb630>"
      ]
     },
     "execution_count": 28,
     "metadata": {},
     "output_type": "execute_result"
    },
    {
     "data": {
      "image/png": "[encoded data removed]",
      "text/plain": [
       "<matplotlib.figure.Figure at 0x1a730f92128>"
      ]
     },
     "metadata": {},
     "output_type": "display_data"
    }
   ],
   "source": [
    "plt.figure(figsize = (20,5))\n",
    "sns.countplot(x= nba_df['pos'], data = nba_df)"
   ]
  },
  {
   "cell_type": "markdown",
   "metadata": {
    "ExecuteTime": {
     "end_time": "2018-08-19T22:06:24.431648Z",
     "start_time": "2018-08-19T22:06:24.427680Z"
    }
   },
   "source": [
    "***There are very less number of players having positions == G, F. After reading about the player positions in basketball from https://www.myactivesg.com/sports/basketball/how-to-play/basketball-rules/basketball-positions-and-roles, I have identified that the G,F are invalid values ***"
   ]
  },
  {
   "cell_type": "code",
   "execution_count": 29,
   "metadata": {
    "ExecuteTime": {
     "end_time": "2018-08-21T19:41:11.281501Z",
     "start_time": "2018-08-21T19:41:11.269544Z"
    },
    "scrolled": true
   },
   "outputs": [
    {
     "data": {
      "text/html": [
       "<div>\n",
       "<style scoped>\n",
       "    .dataframe tbody tr th:only-of-type {\n",
       "        vertical-align: middle;\n",
       "    }\n",
       "\n",
       "    .dataframe tbody tr th {\n",
       "        vertical-align: top;\n",
       "    }\n",
       "\n",
       "    .dataframe thead th {\n",
       "        text-align: right;\n",
       "    }\n",
       "</style>\n",
       "<table border=\"1\" class=\"dataframe\">\n",
       "  <thead>\n",
       "    <tr style=\"text-align: right;\">\n",
       "      <th></th>\n",
       "      <th>player</th>\n",
       "      <th>pos</th>\n",
       "    </tr>\n",
       "  </thead>\n",
       "  <tbody>\n",
       "    <tr>\n",
       "      <th>224</th>\n",
       "      <td>Damion James</td>\n",
       "      <td>G</td>\n",
       "    </tr>\n",
       "    <tr>\n",
       "      <th>356</th>\n",
       "      <td>Josh Powell</td>\n",
       "      <td>F</td>\n",
       "    </tr>\n",
       "  </tbody>\n",
       "</table>\n",
       "</div>"
      ],
      "text/plain": [
       "           player pos\n",
       "224  Damion James   G\n",
       "356   Josh Powell   F"
      ]
     },
     "execution_count": 29,
     "metadata": {},
     "output_type": "execute_result"
    }
   ],
   "source": [
    "# Identify the players for whom these invalid values G and F\n",
    "nba_df.loc[(nba_df['pos'].isin(['G','F'])),['player','pos']]"
   ]
  },
  {
   "cell_type": "code",
   "execution_count": 30,
   "metadata": {
    "ExecuteTime": {
     "end_time": "2018-08-21T19:41:11.292485Z",
     "start_time": "2018-08-21T19:41:11.284496Z"
    },
    "scrolled": false
   },
   "outputs": [],
   "source": [
    "# Replace the invalid values with the ones mentioned above\n",
    "nba_df['pos'].replace(to_replace ='G',value= 'SG',inplace=True)\n",
    "nba_df['pos'].replace(to_replace ='F',value= 'PF',inplace=True)"
   ]
  },
  {
   "cell_type": "code",
   "execution_count": 31,
   "metadata": {
    "ExecuteTime": {
     "end_time": "2018-08-21T19:41:11.304448Z",
     "start_time": "2018-08-21T19:41:11.295465Z"
    }
   },
   "outputs": [
    {
     "data": {
      "text/html": [
       "<div>\n",
       "<style scoped>\n",
       "    .dataframe tbody tr th:only-of-type {\n",
       "        vertical-align: middle;\n",
       "    }\n",
       "\n",
       "    .dataframe tbody tr th {\n",
       "        vertical-align: top;\n",
       "    }\n",
       "\n",
       "    .dataframe thead th {\n",
       "        text-align: right;\n",
       "    }\n",
       "</style>\n",
       "<table border=\"1\" class=\"dataframe\">\n",
       "  <thead>\n",
       "    <tr style=\"text-align: right;\">\n",
       "      <th></th>\n",
       "      <th>player</th>\n",
       "      <th>pos</th>\n",
       "    </tr>\n",
       "  </thead>\n",
       "  <tbody>\n",
       "  </tbody>\n",
       "</table>\n",
       "</div>"
      ],
      "text/plain": [
       "Empty DataFrame\n",
       "Columns: [player, pos]\n",
       "Index: []"
      ]
     },
     "execution_count": 31,
     "metadata": {},
     "output_type": "execute_result"
    }
   ],
   "source": [
    "# Check the players for whom these invalid values G and F\n",
    "nba_df.loc[(nba_df['pos'].isin(['G','F'])),['player','pos']]"
   ]
  },
  {
   "cell_type": "code",
   "execution_count": 32,
   "metadata": {
    "ExecuteTime": {
     "end_time": "2018-08-21T19:41:11.321396Z",
     "start_time": "2018-08-21T19:41:11.307434Z"
    }
   },
   "outputs": [
    {
     "data": {
      "text/html": [
       "<div>\n",
       "<style scoped>\n",
       "    .dataframe tbody tr th:only-of-type {\n",
       "        vertical-align: middle;\n",
       "    }\n",
       "\n",
       "    .dataframe tbody tr th {\n",
       "        vertical-align: top;\n",
       "    }\n",
       "\n",
       "    .dataframe thead th {\n",
       "        text-align: right;\n",
       "    }\n",
       "</style>\n",
       "<table border=\"1\" class=\"dataframe\">\n",
       "  <thead>\n",
       "    <tr style=\"text-align: right;\">\n",
       "      <th></th>\n",
       "      <th>player</th>\n",
       "      <th>pos</th>\n",
       "    </tr>\n",
       "  </thead>\n",
       "  <tbody>\n",
       "    <tr>\n",
       "      <th>224</th>\n",
       "      <td>Damion James</td>\n",
       "      <td>SG</td>\n",
       "    </tr>\n",
       "    <tr>\n",
       "      <th>356</th>\n",
       "      <td>Josh Powell</td>\n",
       "      <td>PF</td>\n",
       "    </tr>\n",
       "  </tbody>\n",
       "</table>\n",
       "</div>"
      ],
      "text/plain": [
       "           player pos\n",
       "224  Damion James  SG\n",
       "356   Josh Powell  PF"
      ]
     },
     "execution_count": 32,
     "metadata": {},
     "output_type": "execute_result"
    }
   ],
   "source": [
    "# Identify the players for whom these invalid values G and F\n",
    "nba_df.loc[[224,356],['player','pos']]"
   ]
  },
  {
   "cell_type": "markdown",
   "metadata": {
    "ExecuteTime": {
     "end_time": "2018-08-20T21:43:57.747464Z",
     "start_time": "2018-08-20T21:43:57.740516Z"
    }
   },
   "source": [
    "***The replacement of the values was successful and the column is now clean***"
   ]
  },
  {
   "cell_type": "markdown",
   "metadata": {},
   "source": [
    "# Getting Basic Statistical Information"
   ]
  },
  {
   "cell_type": "code",
   "execution_count": 34,
   "metadata": {
    "ExecuteTime": {
     "end_time": "2018-08-21T19:41:11.589689Z",
     "start_time": "2018-08-21T19:41:11.507921Z"
    },
    "scrolled": false
   },
   "outputs": [
    {
     "name": "stdout",
     "output_type": "stream",
     "text": [
      "              age           g          gs           mp          fg  \\\n",
      "count  481.000000  481.000000  481.000000   481.000000  481.000000   \n",
      "mean    26.509356   53.253638   25.571726  1237.386694  192.881497   \n",
      "std      4.198265   25.322711   29.658465   897.258840  171.832793   \n",
      "min     19.000000    1.000000    0.000000     1.000000    0.000000   \n",
      "25%     23.000000   32.000000    0.000000   388.000000   47.000000   \n",
      "50%     26.000000   61.000000   10.000000  1141.000000  146.000000   \n",
      "75%     29.000000   76.000000   54.000000  2016.000000  307.000000   \n",
      "max     39.000000   83.000000   82.000000  3122.000000  849.000000   \n",
      "\n",
      "               fga         fg.         x3p        x3pa        x3p.  \\\n",
      "count   481.000000  481.000000  481.000000  481.000000  481.000000   \n",
      "mean    424.463617    0.436268   39.613306  110.130977    0.288133   \n",
      "std     368.850833    0.098509   50.855639  132.751732    0.157492   \n",
      "min       0.000000    0.000000    0.000000    0.000000    0.000000   \n",
      "25%     110.000000    0.400000    0.000000    3.000000    0.238095   \n",
      "50%     332.000000    0.437000   16.000000   48.000000    0.333333   \n",
      "75%     672.000000    0.479000   68.000000  193.000000    0.375000   \n",
      "max    1688.000000    1.000000  261.000000  615.000000    1.000000   \n",
      "\n",
      "              x2p         x2pa        x2p.        efg.          ft  \\\n",
      "count  481.000000   481.000000  481.000000  481.000000  481.000000   \n",
      "mean   153.268191   314.332640    0.467357    0.480661   91.205821   \n",
      "std    147.223161   294.174554    0.104521    0.099388  103.667725   \n",
      "min      0.000000     0.000000    0.000000    0.000000    0.000000   \n",
      "25%     31.000000    67.000000    0.434783    0.451000   16.000000   \n",
      "50%    110.000000   227.000000    0.474674    0.488000   53.000000   \n",
      "75%    230.000000   459.000000    0.513932    0.525000  126.000000   \n",
      "max    706.000000  1408.000000    1.000000    1.000000  703.000000   \n",
      "\n",
      "              fta         ft.         orb         drb          trb  \\\n",
      "count  481.000000  481.000000  481.000000  481.000000   481.000000   \n",
      "mean   120.642412    0.723842   55.810811  162.817048   218.627859   \n",
      "std    131.240639    0.158851   62.101191  145.348116   200.356507   \n",
      "min      0.000000    0.000000    0.000000    0.000000     0.000000   \n",
      "25%     22.000000    0.655000   12.000000   43.000000    55.000000   \n",
      "50%     73.000000    0.754000   35.000000  135.000000   168.000000   \n",
      "75%    179.000000    0.821000   73.000000  230.000000   310.000000   \n",
      "max    805.000000    1.000000  440.000000  783.000000  1114.000000   \n",
      "\n",
      "              ast         stl         blk         tov          pf  \\\n",
      "count  481.000000  481.000000  481.000000  481.000000  481.000000   \n",
      "mean   112.536383   39.280665   24.103950   71.862786  105.869023   \n",
      "std    131.019557   34.783590   30.875381   62.701690   71.213627   \n",
      "min      0.000000    0.000000    0.000000    0.000000    0.000000   \n",
      "25%     20.000000    9.000000    4.000000   21.000000   44.000000   \n",
      "50%     65.000000   32.000000   14.000000   58.000000  104.000000   \n",
      "75%    152.000000   60.000000   32.000000  108.000000  158.000000   \n",
      "max    721.000000  191.000000  219.000000  295.000000  273.000000   \n",
      "\n",
      "               pts  season_end  \n",
      "count   481.000000       481.0  \n",
      "mean    516.582121      2013.0  \n",
      "std     470.422228         0.0  \n",
      "min       0.000000      2013.0  \n",
      "25%     115.000000      2013.0  \n",
      "50%     401.000000      2013.0  \n",
      "75%     821.000000      2013.0  \n",
      "max    2593.000000      2013.0  \n"
     ]
    }
   ],
   "source": [
    "#nba_df.describe()\n",
    "print(nba_df.describe())"
   ]
  },
  {
   "cell_type": "markdown",
   "metadata": {},
   "source": [
    "# Explore Data"
   ]
  },
  {
   "cell_type": "markdown",
   "metadata": {
    "ExecuteTime": {
     "end_time": "2018-08-20T22:01:21.604796Z",
     "start_time": "2018-08-20T22:01:21.601775Z"
    }
   },
   "source": [
    "## Uni-variate"
   ]
  },
  {
   "cell_type": "markdown",
   "metadata": {
    "ExecuteTime": {
     "end_time": "2018-08-20T22:01:40.093368Z",
     "start_time": "2018-08-20T22:01:40.090369Z"
    }
   },
   "source": [
    "### Uni-variate - Numerical columns"
   ]
  },
  {
   "cell_type": "code",
   "execution_count": 35,
   "metadata": {
    "ExecuteTime": {
     "end_time": "2018-08-21T19:41:16.504545Z",
     "start_time": "2018-08-21T19:41:11.869927Z"
    },
    "scrolled": false
   },
   "outputs": [
    {
     "data": {
      "text/plain": [
       "array([[<matplotlib.axes._subplots.AxesSubplot object at 0x000001A73119E668>,\n",
       "        <matplotlib.axes._subplots.AxesSubplot object at 0x000001A7311CD7B8>,\n",
       "        <matplotlib.axes._subplots.AxesSubplot object at 0x000001A731419358>],\n",
       "       [<matplotlib.axes._subplots.AxesSubplot object at 0x000001A73142D668>,\n",
       "        <matplotlib.axes._subplots.AxesSubplot object at 0x000001A73147D9E8>,\n",
       "        <matplotlib.axes._subplots.AxesSubplot object at 0x000001A73147DA20>],\n",
       "       [<matplotlib.axes._subplots.AxesSubplot object at 0x000001A7314F6128>,\n",
       "        <matplotlib.axes._subplots.AxesSubplot object at 0x000001A731527C88>,\n",
       "        <matplotlib.axes._subplots.AxesSubplot object at 0x000001A73155E588>],\n",
       "       [<matplotlib.axes._subplots.AxesSubplot object at 0x000001A73159A208>,\n",
       "        <matplotlib.axes._subplots.AxesSubplot object at 0x000001A7315CBD68>,\n",
       "        <matplotlib.axes._subplots.AxesSubplot object at 0x000001A731608908>],\n",
       "       [<matplotlib.axes._subplots.AxesSubplot object at 0x000001A7316207F0>,\n",
       "        <matplotlib.axes._subplots.AxesSubplot object at 0x000001A730F92C18>,\n",
       "        <matplotlib.axes._subplots.AxesSubplot object at 0x000001A73119C828>],\n",
       "       [<matplotlib.axes._subplots.AxesSubplot object at 0x000001A73164F780>,\n",
       "        <matplotlib.axes._subplots.AxesSubplot object at 0x000001A731703860>,\n",
       "        <matplotlib.axes._subplots.AxesSubplot object at 0x000001A73119EBE0>],\n",
       "       [<matplotlib.axes._subplots.AxesSubplot object at 0x000001A73176F470>,\n",
       "        <matplotlib.axes._subplots.AxesSubplot object at 0x000001A7317AA940>,\n",
       "        <matplotlib.axes._subplots.AxesSubplot object at 0x000001A7317E3E80>],\n",
       "       [<matplotlib.axes._subplots.AxesSubplot object at 0x000001A731809C88>,\n",
       "        <matplotlib.axes._subplots.AxesSubplot object at 0x000001A731844EF0>,\n",
       "        <matplotlib.axes._subplots.AxesSubplot object at 0x000001A73188A2B0>],\n",
       "       [<matplotlib.axes._subplots.AxesSubplot object at 0x000001A7318C52B0>,\n",
       "        <matplotlib.axes._subplots.AxesSubplot object at 0x000001A7318FC710>,\n",
       "        <matplotlib.axes._subplots.AxesSubplot object at 0x000001A73192A9B0>]],\n",
       "      dtype=object)"
      ]
     },
     "execution_count": 35,
     "metadata": {},
     "output_type": "execute_result"
    },
    {
     "data": {
      "image/png": "[encoded data removed]",
      "text/plain": [
       "<matplotlib.figure.Figure at 0x1a7311a1e10>"
      ]
     },
     "metadata": {},
     "output_type": "display_data"
    }
   ],
   "source": [
    "nba_df[num_cols].hist(bins=50,figsize=(20,40), layout= (9,3))"
   ]
  },
  {
   "cell_type": "markdown",
   "metadata": {},
   "source": [
    "***It is interesting the note the majority of the columns have values which behave similar to exponential distribution***"
   ]
  },
  {
   "cell_type": "markdown",
   "metadata": {},
   "source": [
    "***Also, the season_end columns has only one value repeated for every row***"
   ]
  },
  {
   "cell_type": "markdown",
   "metadata": {},
   "source": [
    "## Multi-variate"
   ]
  },
  {
   "cell_type": "code",
   "execution_count": 36,
   "metadata": {
    "ExecuteTime": {
     "end_time": "2018-08-21T19:41:42.063145Z",
     "start_time": "2018-08-21T19:41:39.176870Z"
    }
   },
   "outputs": [
    {
     "data": {
      "text/plain": [
       "<matplotlib.axes._subplots.AxesSubplot at 0x1a7319b7978>"
      ]
     },
     "execution_count": 36,
     "metadata": {},
     "output_type": "execute_result"
    },
    {
     "data": {
      "image/png": "[encoded data removed]",
      "text/plain": [
       "<matplotlib.figure.Figure at 0x1a733832cc0>"
      ]
     },
     "metadata": {},
     "output_type": "display_data"
    }
   ],
   "source": [
    "plt.figure(figsize=(25,20))\n",
    "sns.heatmap(nba_df.corr(), annot = True)"
   ]
  },
  {
   "cell_type": "code",
   "execution_count": 37,
   "metadata": {
    "ExecuteTime": {
     "end_time": "2018-08-21T19:41:42.146987Z",
     "start_time": "2018-08-21T19:41:42.118998Z"
    }
   },
   "outputs": [
    {
     "name": "stdout",
     "output_type": "stream",
     "text": [
      "         age         g        gs        mp        fg       fga       fg.  \\\n",
      "pts -0.01191  0.728462  0.810294  0.927464  0.992041  0.989211  0.249419   \n",
      "\n",
      "          x3p      x3pa      x3p.       x2p      x2pa      x2p.      efg.  \\\n",
      "pts  0.655342  0.672076  0.113962  0.931493  0.937036  0.213475  0.269157   \n",
      "\n",
      "           ft       fta       ft.       orb       drb      trb       ast  \\\n",
      "pts  0.927618  0.918979  0.281958  0.505524  0.784675  0.72593  0.738295   \n",
      "\n",
      "          stl       blk       tov       pf  pts  season_end  \n",
      "pts  0.797449  0.433549  0.912724  0.77806  1.0         NaN  \n"
     ]
    }
   ],
   "source": [
    "print(nba_df.corr().iloc[-2:-1,:])"
   ]
  },
  {
   "cell_type": "markdown",
   "metadata": {},
   "source": [
    "***The points scored by a player in the season 2013-14 is:***\n",
    " - strong correlation with\n",
    "    - g -- Games played  \n",
    "    - gs -- Games Started\n",
    "    - mp -- Minutes Played\n",
    "    - fg -- Field Goals\n",
    "    - fga - Field Goal Attempts     \n",
    "    - x2p -- 2-Point Field Goals\n",
    "    - x2pa -- 2-point Field Goal Attempts\n",
    "    - ft -- Free Throws\n",
    "    - fta -- Free Throw Attempts\n",
    "    - drb -- Defensive Rebounds\n",
    "    - trb -- Total Rebounds  \n",
    "\t- ast -- Assists\n",
    "    - stl -- Steals\n",
    "    - tov -- Turnovers\n",
    "    - pf -- Personal Fouls\n",
    "    \n",
    " - moderate to strong correlation with\n",
    "    - x3p -- 3-Point Field Goals\n",
    "    - x3pa -- 3-Point Field Goal Attempts\n",
    "\n",
    " "
   ]
  },
  {
   "cell_type": "markdown",
   "metadata": {},
   "source": [
    "# Engineer Features"
   ]
  },
  {
   "cell_type": "code",
   "execution_count": 38,
   "metadata": {
    "ExecuteTime": {
     "end_time": "2018-08-21T19:41:42.161882Z",
     "start_time": "2018-08-21T19:41:42.151909Z"
    }
   },
   "outputs": [
    {
     "name": "stdout",
     "output_type": "stream",
     "text": [
      "['age' 'g' 'gs' 'mp' 'fg' 'fga' 'fg.' 'x3p' 'x3pa' 'x3p.' 'x2p' 'x2pa'\n",
      " 'x2p.' 'efg.' 'ft' 'fta' 'ft.' 'orb' 'drb' 'trb' 'ast' 'stl' 'blk' 'tov'\n",
      " 'pf' 'pts' 'season_end']\n",
      "['player' 'pos' 'bref_team_id' 'season']\n"
     ]
    }
   ],
   "source": [
    "print(num_cols)\n",
    "print(cat_cols)"
   ]
  },
  {
   "cell_type": "markdown",
   "metadata": {
    "ExecuteTime": {
     "end_time": "2018-08-21T00:07:42.375238Z",
     "start_time": "2018-08-21T00:07:42.372105Z"
    }
   },
   "source": [
    "## Encode Categorical Columns"
   ]
  },
  {
   "cell_type": "code",
   "execution_count": 39,
   "metadata": {
    "ExecuteTime": {
     "end_time": "2018-08-21T19:41:42.181829Z",
     "start_time": "2018-08-21T19:41:42.164874Z"
    }
   },
   "outputs": [],
   "source": [
    "cols_to_encode = ['pos','bref_team_id']\n",
    "prefixes = ['pos','team']\n",
    "nba_encoded= pd.get_dummies(data = nba_df, prefix = prefixes, columns = cols_to_encode, prefix_sep = '_', drop_first = True)"
   ]
  },
  {
   "cell_type": "code",
   "execution_count": 40,
   "metadata": {
    "ExecuteTime": {
     "end_time": "2018-08-21T19:41:42.194804Z",
     "start_time": "2018-08-21T19:41:42.184834Z"
    }
   },
   "outputs": [
    {
     "data": {
      "text/plain": [
       "Index(['player', 'age', 'g', 'gs', 'mp', 'fg', 'fga', 'fg.', 'x3p', 'x3pa',\n",
       "       'x3p.', 'x2p', 'x2pa', 'x2p.', 'efg.', 'ft', 'fta', 'ft.', 'orb', 'drb',\n",
       "       'trb', 'ast', 'stl', 'blk', 'tov', 'pf', 'pts', 'season', 'season_end',\n",
       "       'pos_PF', 'pos_PG', 'pos_SF', 'pos_SG', 'team_BOS', 'team_BRK',\n",
       "       'team_CHA', 'team_CHI', 'team_CLE', 'team_DAL', 'team_DEN', 'team_DET',\n",
       "       'team_GSW', 'team_HOU', 'team_IND', 'team_LAC', 'team_LAL', 'team_MEM',\n",
       "       'team_MIA', 'team_MIL', 'team_MIN', 'team_NOP', 'team_NYK', 'team_OKC',\n",
       "       'team_ORL', 'team_PHI', 'team_PHO', 'team_POR', 'team_SAC', 'team_SAS',\n",
       "       'team_TOR', 'team_TOT', 'team_UTA', 'team_WAS'],\n",
       "      dtype='object')"
      ]
     },
     "execution_count": 40,
     "metadata": {},
     "output_type": "execute_result"
    }
   ],
   "source": [
    "nba_encoded.columns"
   ]
  },
  {
   "cell_type": "code",
   "execution_count": 41,
   "metadata": {
    "ExecuteTime": {
     "end_time": "2018-08-21T19:41:42.210778Z",
     "start_time": "2018-08-21T19:41:42.197788Z"
    }
   },
   "outputs": [],
   "source": [
    "nba_encoded.drop(['player','season','season_end'], axis = 1,inplace = True)"
   ]
  },
  {
   "cell_type": "code",
   "execution_count": 42,
   "metadata": {
    "ExecuteTime": {
     "end_time": "2018-08-21T19:41:42.219749Z",
     "start_time": "2018-08-21T19:41:42.212748Z"
    }
   },
   "outputs": [
    {
     "data": {
      "text/plain": [
       "array(['age', 'g', 'gs', 'mp', 'fg', 'fga', 'fg.', 'x3p', 'x3pa', 'x3p.',\n",
       "       'x2p', 'x2pa', 'x2p.', 'efg.', 'ft', 'fta', 'ft.', 'orb', 'drb',\n",
       "       'trb', 'ast', 'stl', 'blk', 'tov', 'pf', 'pts', 'pos_PF', 'pos_PG',\n",
       "       'pos_SF', 'pos_SG', 'team_BOS', 'team_BRK', 'team_CHA', 'team_CHI',\n",
       "       'team_CLE', 'team_DAL', 'team_DEN', 'team_DET', 'team_GSW',\n",
       "       'team_HOU', 'team_IND', 'team_LAC', 'team_LAL', 'team_MEM',\n",
       "       'team_MIA', 'team_MIL', 'team_MIN', 'team_NOP', 'team_NYK',\n",
       "       'team_OKC', 'team_ORL', 'team_PHI', 'team_PHO', 'team_POR',\n",
       "       'team_SAC', 'team_SAS', 'team_TOR', 'team_TOT', 'team_UTA',\n",
       "       'team_WAS'], dtype=object)"
      ]
     },
     "execution_count": 42,
     "metadata": {},
     "output_type": "execute_result"
    }
   ],
   "source": [
    "nba_encoded_cols = nba_encoded.columns.values\n",
    "nba_encoded_cols"
   ]
  },
  {
   "cell_type": "markdown",
   "metadata": {},
   "source": [
    "# Data Preprocessing - Normalization with MinMaxScaler"
   ]
  },
  {
   "cell_type": "code",
   "execution_count": 43,
   "metadata": {
    "ExecuteTime": {
     "end_time": "2018-08-21T19:41:42.233690Z",
     "start_time": "2018-08-21T19:41:42.227707Z"
    }
   },
   "outputs": [],
   "source": [
    "from sklearn.preprocessing import MinMaxScaler\n",
    "scaler = MinMaxScaler()\n",
    "nba_scaled_array = scaler.fit_transform(nba_encoded)"
   ]
  },
  {
   "cell_type": "code",
   "execution_count": 44,
   "metadata": {
    "ExecuteTime": {
     "end_time": "2018-08-21T19:41:42.244661Z",
     "start_time": "2018-08-21T19:41:42.235687Z"
    }
   },
   "outputs": [],
   "source": [
    "df_nba_scaled = pd.DataFrame(data = nba_scaled_array, columns = nba_encoded_cols)"
   ]
  },
  {
   "cell_type": "code",
   "execution_count": 45,
   "metadata": {
    "ExecuteTime": {
     "end_time": "2018-08-21T19:41:42.463078Z",
     "start_time": "2018-08-21T19:41:42.246656Z"
    }
   },
   "outputs": [
    {
     "data": {
      "text/html": [
       "<div>\n",
       "<style scoped>\n",
       "    .dataframe tbody tr th:only-of-type {\n",
       "        vertical-align: middle;\n",
       "    }\n",
       "\n",
       "    .dataframe tbody tr th {\n",
       "        vertical-align: top;\n",
       "    }\n",
       "\n",
       "    .dataframe thead th {\n",
       "        text-align: right;\n",
       "    }\n",
       "</style>\n",
       "<table border=\"1\" class=\"dataframe\">\n",
       "  <thead>\n",
       "    <tr style=\"text-align: right;\">\n",
       "      <th></th>\n",
       "      <th>age</th>\n",
       "      <th>g</th>\n",
       "      <th>gs</th>\n",
       "      <th>mp</th>\n",
       "      <th>fg</th>\n",
       "      <th>fga</th>\n",
       "      <th>fg.</th>\n",
       "      <th>x3p</th>\n",
       "      <th>x3pa</th>\n",
       "      <th>x3p.</th>\n",
       "      <th>x2p</th>\n",
       "      <th>x2pa</th>\n",
       "      <th>x2p.</th>\n",
       "      <th>efg.</th>\n",
       "      <th>ft</th>\n",
       "      <th>fta</th>\n",
       "      <th>ft.</th>\n",
       "      <th>orb</th>\n",
       "      <th>drb</th>\n",
       "      <th>trb</th>\n",
       "      <th>ast</th>\n",
       "      <th>stl</th>\n",
       "      <th>blk</th>\n",
       "      <th>tov</th>\n",
       "      <th>pf</th>\n",
       "      <th>pts</th>\n",
       "      <th>pos_PF</th>\n",
       "      <th>pos_PG</th>\n",
       "      <th>pos_SF</th>\n",
       "      <th>pos_SG</th>\n",
       "      <th>team_BOS</th>\n",
       "      <th>team_BRK</th>\n",
       "      <th>team_CHA</th>\n",
       "      <th>team_CHI</th>\n",
       "      <th>team_CLE</th>\n",
       "      <th>team_DAL</th>\n",
       "      <th>team_DEN</th>\n",
       "      <th>team_DET</th>\n",
       "      <th>team_GSW</th>\n",
       "      <th>team_HOU</th>\n",
       "      <th>team_IND</th>\n",
       "      <th>team_LAC</th>\n",
       "      <th>team_LAL</th>\n",
       "      <th>team_MEM</th>\n",
       "      <th>team_MIA</th>\n",
       "      <th>team_MIL</th>\n",
       "      <th>team_MIN</th>\n",
       "      <th>team_NOP</th>\n",
       "      <th>team_NYK</th>\n",
       "      <th>team_OKC</th>\n",
       "      <th>team_ORL</th>\n",
       "      <th>team_PHI</th>\n",
       "      <th>team_PHO</th>\n",
       "      <th>team_POR</th>\n",
       "      <th>team_SAC</th>\n",
       "      <th>team_SAS</th>\n",
       "      <th>team_TOR</th>\n",
       "      <th>team_TOT</th>\n",
       "      <th>team_UTA</th>\n",
       "      <th>team_WAS</th>\n",
       "    </tr>\n",
       "  </thead>\n",
       "  <tbody>\n",
       "    <tr>\n",
       "      <th>count</th>\n",
       "      <td>481.000000</td>\n",
       "      <td>481.000000</td>\n",
       "      <td>481.000000</td>\n",
       "      <td>481.000000</td>\n",
       "      <td>481.000000</td>\n",
       "      <td>481.000000</td>\n",
       "      <td>481.000000</td>\n",
       "      <td>481.000000</td>\n",
       "      <td>481.000000</td>\n",
       "      <td>481.000000</td>\n",
       "      <td>481.000000</td>\n",
       "      <td>481.000000</td>\n",
       "      <td>481.000000</td>\n",
       "      <td>481.000000</td>\n",
       "      <td>481.000000</td>\n",
       "      <td>481.000000</td>\n",
       "      <td>481.000000</td>\n",
       "      <td>481.000000</td>\n",
       "      <td>481.000000</td>\n",
       "      <td>481.000000</td>\n",
       "      <td>481.000000</td>\n",
       "      <td>481.000000</td>\n",
       "      <td>481.000000</td>\n",
       "      <td>481.000000</td>\n",
       "      <td>481.000000</td>\n",
       "      <td>481.000000</td>\n",
       "      <td>481.000000</td>\n",
       "      <td>481.000000</td>\n",
       "      <td>481.000000</td>\n",
       "      <td>481.000000</td>\n",
       "      <td>481.000000</td>\n",
       "      <td>481.000000</td>\n",
       "      <td>481.000000</td>\n",
       "      <td>481.000000</td>\n",
       "      <td>481.000000</td>\n",
       "      <td>481.000000</td>\n",
       "      <td>481.000000</td>\n",
       "      <td>481.000000</td>\n",
       "      <td>481.000000</td>\n",
       "      <td>481.000000</td>\n",
       "      <td>481.000000</td>\n",
       "      <td>481.000000</td>\n",
       "      <td>481.000000</td>\n",
       "      <td>481.000000</td>\n",
       "      <td>481.000000</td>\n",
       "      <td>481.000000</td>\n",
       "      <td>481.000000</td>\n",
       "      <td>481.000000</td>\n",
       "      <td>481.000000</td>\n",
       "      <td>481.000000</td>\n",
       "      <td>481.000000</td>\n",
       "      <td>481.000000</td>\n",
       "      <td>481.000000</td>\n",
       "      <td>481.000000</td>\n",
       "      <td>481.000000</td>\n",
       "      <td>481.000000</td>\n",
       "      <td>481.000000</td>\n",
       "      <td>481.000000</td>\n",
       "      <td>481.000000</td>\n",
       "      <td>481.000000</td>\n",
       "    </tr>\n",
       "    <tr>\n",
       "      <th>mean</th>\n",
       "      <td>0.375468</td>\n",
       "      <td>0.637239</td>\n",
       "      <td>0.311850</td>\n",
       "      <td>0.396151</td>\n",
       "      <td>0.227187</td>\n",
       "      <td>0.251459</td>\n",
       "      <td>0.436268</td>\n",
       "      <td>0.151775</td>\n",
       "      <td>0.179075</td>\n",
       "      <td>0.288133</td>\n",
       "      <td>0.217094</td>\n",
       "      <td>0.223248</td>\n",
       "      <td>0.467357</td>\n",
       "      <td>0.480661</td>\n",
       "      <td>0.129738</td>\n",
       "      <td>0.149866</td>\n",
       "      <td>0.723842</td>\n",
       "      <td>0.126843</td>\n",
       "      <td>0.207940</td>\n",
       "      <td>0.196255</td>\n",
       "      <td>0.156084</td>\n",
       "      <td>0.205658</td>\n",
       "      <td>0.110064</td>\n",
       "      <td>0.243603</td>\n",
       "      <td>0.387799</td>\n",
       "      <td>0.199222</td>\n",
       "      <td>0.201663</td>\n",
       "      <td>0.176715</td>\n",
       "      <td>0.205821</td>\n",
       "      <td>0.228690</td>\n",
       "      <td>0.029106</td>\n",
       "      <td>0.031185</td>\n",
       "      <td>0.027027</td>\n",
       "      <td>0.022869</td>\n",
       "      <td>0.029106</td>\n",
       "      <td>0.031185</td>\n",
       "      <td>0.024948</td>\n",
       "      <td>0.031185</td>\n",
       "      <td>0.024948</td>\n",
       "      <td>0.031185</td>\n",
       "      <td>0.024948</td>\n",
       "      <td>0.033264</td>\n",
       "      <td>0.033264</td>\n",
       "      <td>0.027027</td>\n",
       "      <td>0.031185</td>\n",
       "      <td>0.027027</td>\n",
       "      <td>0.029106</td>\n",
       "      <td>0.037422</td>\n",
       "      <td>0.031185</td>\n",
       "      <td>0.035343</td>\n",
       "      <td>0.027027</td>\n",
       "      <td>0.024948</td>\n",
       "      <td>0.031185</td>\n",
       "      <td>0.031185</td>\n",
       "      <td>0.018711</td>\n",
       "      <td>0.029106</td>\n",
       "      <td>0.020790</td>\n",
       "      <td>0.130977</td>\n",
       "      <td>0.033264</td>\n",
       "      <td>0.029106</td>\n",
       "    </tr>\n",
       "    <tr>\n",
       "      <th>std</th>\n",
       "      <td>0.209913</td>\n",
       "      <td>0.308814</td>\n",
       "      <td>0.361689</td>\n",
       "      <td>0.287491</td>\n",
       "      <td>0.202394</td>\n",
       "      <td>0.218514</td>\n",
       "      <td>0.098509</td>\n",
       "      <td>0.194849</td>\n",
       "      <td>0.215856</td>\n",
       "      <td>0.157492</td>\n",
       "      <td>0.208531</td>\n",
       "      <td>0.208931</td>\n",
       "      <td>0.104521</td>\n",
       "      <td>0.099388</td>\n",
       "      <td>0.147465</td>\n",
       "      <td>0.163032</td>\n",
       "      <td>0.158851</td>\n",
       "      <td>0.141139</td>\n",
       "      <td>0.185630</td>\n",
       "      <td>0.179853</td>\n",
       "      <td>0.181719</td>\n",
       "      <td>0.182113</td>\n",
       "      <td>0.140983</td>\n",
       "      <td>0.212548</td>\n",
       "      <td>0.260856</td>\n",
       "      <td>0.181420</td>\n",
       "      <td>0.401660</td>\n",
       "      <td>0.381825</td>\n",
       "      <td>0.404721</td>\n",
       "      <td>0.420427</td>\n",
       "      <td>0.168279</td>\n",
       "      <td>0.173998</td>\n",
       "      <td>0.162331</td>\n",
       "      <td>0.149642</td>\n",
       "      <td>0.168279</td>\n",
       "      <td>0.173998</td>\n",
       "      <td>0.156129</td>\n",
       "      <td>0.173998</td>\n",
       "      <td>0.156129</td>\n",
       "      <td>0.173998</td>\n",
       "      <td>0.156129</td>\n",
       "      <td>0.179512</td>\n",
       "      <td>0.179512</td>\n",
       "      <td>0.162331</td>\n",
       "      <td>0.173998</td>\n",
       "      <td>0.162331</td>\n",
       "      <td>0.168279</td>\n",
       "      <td>0.189991</td>\n",
       "      <td>0.173998</td>\n",
       "      <td>0.184838</td>\n",
       "      <td>0.162331</td>\n",
       "      <td>0.156129</td>\n",
       "      <td>0.173998</td>\n",
       "      <td>0.173998</td>\n",
       "      <td>0.135644</td>\n",
       "      <td>0.168279</td>\n",
       "      <td>0.142829</td>\n",
       "      <td>0.337727</td>\n",
       "      <td>0.179512</td>\n",
       "      <td>0.168279</td>\n",
       "    </tr>\n",
       "    <tr>\n",
       "      <th>min</th>\n",
       "      <td>0.000000</td>\n",
       "      <td>0.000000</td>\n",
       "      <td>0.000000</td>\n",
       "      <td>0.000000</td>\n",
       "      <td>0.000000</td>\n",
       "      <td>0.000000</td>\n",
       "      <td>0.000000</td>\n",
       "      <td>0.000000</td>\n",
       "      <td>0.000000</td>\n",
       "      <td>0.000000</td>\n",
       "      <td>0.000000</td>\n",
       "      <td>0.000000</td>\n",
       "      <td>0.000000</td>\n",
       "      <td>0.000000</td>\n",
       "      <td>0.000000</td>\n",
       "      <td>0.000000</td>\n",
       "      <td>0.000000</td>\n",
       "      <td>0.000000</td>\n",
       "      <td>0.000000</td>\n",
       "      <td>0.000000</td>\n",
       "      <td>0.000000</td>\n",
       "      <td>0.000000</td>\n",
       "      <td>0.000000</td>\n",
       "      <td>0.000000</td>\n",
       "      <td>0.000000</td>\n",
       "      <td>0.000000</td>\n",
       "      <td>0.000000</td>\n",
       "      <td>0.000000</td>\n",
       "      <td>0.000000</td>\n",
       "      <td>0.000000</td>\n",
       "      <td>0.000000</td>\n",
       "      <td>0.000000</td>\n",
       "      <td>0.000000</td>\n",
       "      <td>0.000000</td>\n",
       "      <td>0.000000</td>\n",
       "      <td>0.000000</td>\n",
       "      <td>0.000000</td>\n",
       "      <td>0.000000</td>\n",
       "      <td>0.000000</td>\n",
       "      <td>0.000000</td>\n",
       "      <td>0.000000</td>\n",
       "      <td>0.000000</td>\n",
       "      <td>0.000000</td>\n",
       "      <td>0.000000</td>\n",
       "      <td>0.000000</td>\n",
       "      <td>0.000000</td>\n",
       "      <td>0.000000</td>\n",
       "      <td>0.000000</td>\n",
       "      <td>0.000000</td>\n",
       "      <td>0.000000</td>\n",
       "      <td>0.000000</td>\n",
       "      <td>0.000000</td>\n",
       "      <td>0.000000</td>\n",
       "      <td>0.000000</td>\n",
       "      <td>0.000000</td>\n",
       "      <td>0.000000</td>\n",
       "      <td>0.000000</td>\n",
       "      <td>0.000000</td>\n",
       "      <td>0.000000</td>\n",
       "      <td>0.000000</td>\n",
       "    </tr>\n",
       "    <tr>\n",
       "      <th>25%</th>\n",
       "      <td>0.200000</td>\n",
       "      <td>0.378049</td>\n",
       "      <td>0.000000</td>\n",
       "      <td>0.123999</td>\n",
       "      <td>0.055359</td>\n",
       "      <td>0.065166</td>\n",
       "      <td>0.400000</td>\n",
       "      <td>0.000000</td>\n",
       "      <td>0.004878</td>\n",
       "      <td>0.238095</td>\n",
       "      <td>0.043909</td>\n",
       "      <td>0.047585</td>\n",
       "      <td>0.434783</td>\n",
       "      <td>0.451000</td>\n",
       "      <td>0.022760</td>\n",
       "      <td>0.027329</td>\n",
       "      <td>0.655000</td>\n",
       "      <td>0.027273</td>\n",
       "      <td>0.054917</td>\n",
       "      <td>0.049372</td>\n",
       "      <td>0.027739</td>\n",
       "      <td>0.047120</td>\n",
       "      <td>0.018265</td>\n",
       "      <td>0.071186</td>\n",
       "      <td>0.161172</td>\n",
       "      <td>0.044350</td>\n",
       "      <td>0.000000</td>\n",
       "      <td>0.000000</td>\n",
       "      <td>0.000000</td>\n",
       "      <td>0.000000</td>\n",
       "      <td>0.000000</td>\n",
       "      <td>0.000000</td>\n",
       "      <td>0.000000</td>\n",
       "      <td>0.000000</td>\n",
       "      <td>0.000000</td>\n",
       "      <td>0.000000</td>\n",
       "      <td>0.000000</td>\n",
       "      <td>0.000000</td>\n",
       "      <td>0.000000</td>\n",
       "      <td>0.000000</td>\n",
       "      <td>0.000000</td>\n",
       "      <td>0.000000</td>\n",
       "      <td>0.000000</td>\n",
       "      <td>0.000000</td>\n",
       "      <td>0.000000</td>\n",
       "      <td>0.000000</td>\n",
       "      <td>0.000000</td>\n",
       "      <td>0.000000</td>\n",
       "      <td>0.000000</td>\n",
       "      <td>0.000000</td>\n",
       "      <td>0.000000</td>\n",
       "      <td>0.000000</td>\n",
       "      <td>0.000000</td>\n",
       "      <td>0.000000</td>\n",
       "      <td>0.000000</td>\n",
       "      <td>0.000000</td>\n",
       "      <td>0.000000</td>\n",
       "      <td>0.000000</td>\n",
       "      <td>0.000000</td>\n",
       "      <td>0.000000</td>\n",
       "    </tr>\n",
       "    <tr>\n",
       "      <th>50%</th>\n",
       "      <td>0.350000</td>\n",
       "      <td>0.731707</td>\n",
       "      <td>0.121951</td>\n",
       "      <td>0.365268</td>\n",
       "      <td>0.171967</td>\n",
       "      <td>0.196682</td>\n",
       "      <td>0.437000</td>\n",
       "      <td>0.061303</td>\n",
       "      <td>0.078049</td>\n",
       "      <td>0.333333</td>\n",
       "      <td>0.155807</td>\n",
       "      <td>0.161222</td>\n",
       "      <td>0.474674</td>\n",
       "      <td>0.488000</td>\n",
       "      <td>0.075391</td>\n",
       "      <td>0.090683</td>\n",
       "      <td>0.754000</td>\n",
       "      <td>0.079545</td>\n",
       "      <td>0.172414</td>\n",
       "      <td>0.150808</td>\n",
       "      <td>0.090153</td>\n",
       "      <td>0.167539</td>\n",
       "      <td>0.063927</td>\n",
       "      <td>0.196610</td>\n",
       "      <td>0.380952</td>\n",
       "      <td>0.154647</td>\n",
       "      <td>0.000000</td>\n",
       "      <td>0.000000</td>\n",
       "      <td>0.000000</td>\n",
       "      <td>0.000000</td>\n",
       "      <td>0.000000</td>\n",
       "      <td>0.000000</td>\n",
       "      <td>0.000000</td>\n",
       "      <td>0.000000</td>\n",
       "      <td>0.000000</td>\n",
       "      <td>0.000000</td>\n",
       "      <td>0.000000</td>\n",
       "      <td>0.000000</td>\n",
       "      <td>0.000000</td>\n",
       "      <td>0.000000</td>\n",
       "      <td>0.000000</td>\n",
       "      <td>0.000000</td>\n",
       "      <td>0.000000</td>\n",
       "      <td>0.000000</td>\n",
       "      <td>0.000000</td>\n",
       "      <td>0.000000</td>\n",
       "      <td>0.000000</td>\n",
       "      <td>0.000000</td>\n",
       "      <td>0.000000</td>\n",
       "      <td>0.000000</td>\n",
       "      <td>0.000000</td>\n",
       "      <td>0.000000</td>\n",
       "      <td>0.000000</td>\n",
       "      <td>0.000000</td>\n",
       "      <td>0.000000</td>\n",
       "      <td>0.000000</td>\n",
       "      <td>0.000000</td>\n",
       "      <td>0.000000</td>\n",
       "      <td>0.000000</td>\n",
       "      <td>0.000000</td>\n",
       "    </tr>\n",
       "    <tr>\n",
       "      <th>75%</th>\n",
       "      <td>0.500000</td>\n",
       "      <td>0.914634</td>\n",
       "      <td>0.658537</td>\n",
       "      <td>0.645626</td>\n",
       "      <td>0.361602</td>\n",
       "      <td>0.398104</td>\n",
       "      <td>0.479000</td>\n",
       "      <td>0.260536</td>\n",
       "      <td>0.313821</td>\n",
       "      <td>0.375000</td>\n",
       "      <td>0.325779</td>\n",
       "      <td>0.325994</td>\n",
       "      <td>0.513932</td>\n",
       "      <td>0.525000</td>\n",
       "      <td>0.179232</td>\n",
       "      <td>0.222360</td>\n",
       "      <td>0.821000</td>\n",
       "      <td>0.165909</td>\n",
       "      <td>0.293742</td>\n",
       "      <td>0.278276</td>\n",
       "      <td>0.210818</td>\n",
       "      <td>0.314136</td>\n",
       "      <td>0.146119</td>\n",
       "      <td>0.366102</td>\n",
       "      <td>0.578755</td>\n",
       "      <td>0.316622</td>\n",
       "      <td>0.000000</td>\n",
       "      <td>0.000000</td>\n",
       "      <td>0.000000</td>\n",
       "      <td>0.000000</td>\n",
       "      <td>0.000000</td>\n",
       "      <td>0.000000</td>\n",
       "      <td>0.000000</td>\n",
       "      <td>0.000000</td>\n",
       "      <td>0.000000</td>\n",
       "      <td>0.000000</td>\n",
       "      <td>0.000000</td>\n",
       "      <td>0.000000</td>\n",
       "      <td>0.000000</td>\n",
       "      <td>0.000000</td>\n",
       "      <td>0.000000</td>\n",
       "      <td>0.000000</td>\n",
       "      <td>0.000000</td>\n",
       "      <td>0.000000</td>\n",
       "      <td>0.000000</td>\n",
       "      <td>0.000000</td>\n",
       "      <td>0.000000</td>\n",
       "      <td>0.000000</td>\n",
       "      <td>0.000000</td>\n",
       "      <td>0.000000</td>\n",
       "      <td>0.000000</td>\n",
       "      <td>0.000000</td>\n",
       "      <td>0.000000</td>\n",
       "      <td>0.000000</td>\n",
       "      <td>0.000000</td>\n",
       "      <td>0.000000</td>\n",
       "      <td>0.000000</td>\n",
       "      <td>0.000000</td>\n",
       "      <td>0.000000</td>\n",
       "      <td>0.000000</td>\n",
       "    </tr>\n",
       "    <tr>\n",
       "      <th>max</th>\n",
       "      <td>1.000000</td>\n",
       "      <td>1.000000</td>\n",
       "      <td>1.000000</td>\n",
       "      <td>1.000000</td>\n",
       "      <td>1.000000</td>\n",
       "      <td>1.000000</td>\n",
       "      <td>1.000000</td>\n",
       "      <td>1.000000</td>\n",
       "      <td>1.000000</td>\n",
       "      <td>1.000000</td>\n",
       "      <td>1.000000</td>\n",
       "      <td>1.000000</td>\n",
       "      <td>1.000000</td>\n",
       "      <td>1.000000</td>\n",
       "      <td>1.000000</td>\n",
       "      <td>1.000000</td>\n",
       "      <td>1.000000</td>\n",
       "      <td>1.000000</td>\n",
       "      <td>1.000000</td>\n",
       "      <td>1.000000</td>\n",
       "      <td>1.000000</td>\n",
       "      <td>1.000000</td>\n",
       "      <td>1.000000</td>\n",
       "      <td>1.000000</td>\n",
       "      <td>1.000000</td>\n",
       "      <td>1.000000</td>\n",
       "      <td>1.000000</td>\n",
       "      <td>1.000000</td>\n",
       "      <td>1.000000</td>\n",
       "      <td>1.000000</td>\n",
       "      <td>1.000000</td>\n",
       "      <td>1.000000</td>\n",
       "      <td>1.000000</td>\n",
       "      <td>1.000000</td>\n",
       "      <td>1.000000</td>\n",
       "      <td>1.000000</td>\n",
       "      <td>1.000000</td>\n",
       "      <td>1.000000</td>\n",
       "      <td>1.000000</td>\n",
       "      <td>1.000000</td>\n",
       "      <td>1.000000</td>\n",
       "      <td>1.000000</td>\n",
       "      <td>1.000000</td>\n",
       "      <td>1.000000</td>\n",
       "      <td>1.000000</td>\n",
       "      <td>1.000000</td>\n",
       "      <td>1.000000</td>\n",
       "      <td>1.000000</td>\n",
       "      <td>1.000000</td>\n",
       "      <td>1.000000</td>\n",
       "      <td>1.000000</td>\n",
       "      <td>1.000000</td>\n",
       "      <td>1.000000</td>\n",
       "      <td>1.000000</td>\n",
       "      <td>1.000000</td>\n",
       "      <td>1.000000</td>\n",
       "      <td>1.000000</td>\n",
       "      <td>1.000000</td>\n",
       "      <td>1.000000</td>\n",
       "      <td>1.000000</td>\n",
       "    </tr>\n",
       "  </tbody>\n",
       "</table>\n",
       "</div>"
      ],
      "text/plain": [
       "              age           g          gs          mp          fg         fga  \\\n",
       "count  481.000000  481.000000  481.000000  481.000000  481.000000  481.000000   \n",
       "mean     0.375468    0.637239    0.311850    0.396151    0.227187    0.251459   \n",
       "std      0.209913    0.308814    0.361689    0.287491    0.202394    0.218514   \n",
       "min      0.000000    0.000000    0.000000    0.000000    0.000000    0.000000   \n",
       "25%      0.200000    0.378049    0.000000    0.123999    0.055359    0.065166   \n",
       "50%      0.350000    0.731707    0.121951    0.365268    0.171967    0.196682   \n",
       "75%      0.500000    0.914634    0.658537    0.645626    0.361602    0.398104   \n",
       "max      1.000000    1.000000    1.000000    1.000000    1.000000    1.000000   \n",
       "\n",
       "              fg.         x3p        x3pa        x3p.         x2p        x2pa  \\\n",
       "count  481.000000  481.000000  481.000000  481.000000  481.000000  481.000000   \n",
       "mean     0.436268    0.151775    0.179075    0.288133    0.217094    0.223248   \n",
       "std      0.098509    0.194849    0.215856    0.157492    0.208531    0.208931   \n",
       "min      0.000000    0.000000    0.000000    0.000000    0.000000    0.000000   \n",
       "25%      0.400000    0.000000    0.004878    0.238095    0.043909    0.047585   \n",
       "50%      0.437000    0.061303    0.078049    0.333333    0.155807    0.161222   \n",
       "75%      0.479000    0.260536    0.313821    0.375000    0.325779    0.325994   \n",
       "max      1.000000    1.000000    1.000000    1.000000    1.000000    1.000000   \n",
       "\n",
       "             x2p.        efg.          ft         fta         ft.         orb  \\\n",
       "count  481.000000  481.000000  481.000000  481.000000  481.000000  481.000000   \n",
       "mean     0.467357    0.480661    0.129738    0.149866    0.723842    0.126843   \n",
       "std      0.104521    0.099388    0.147465    0.163032    0.158851    0.141139   \n",
       "min      0.000000    0.000000    0.000000    0.000000    0.000000    0.000000   \n",
       "25%      0.434783    0.451000    0.022760    0.027329    0.655000    0.027273   \n",
       "50%      0.474674    0.488000    0.075391    0.090683    0.754000    0.079545   \n",
       "75%      0.513932    0.525000    0.179232    0.222360    0.821000    0.165909   \n",
       "max      1.000000    1.000000    1.000000    1.000000    1.000000    1.000000   \n",
       "\n",
       "              drb         trb         ast         stl         blk         tov  \\\n",
       "count  481.000000  481.000000  481.000000  481.000000  481.000000  481.000000   \n",
       "mean     0.207940    0.196255    0.156084    0.205658    0.110064    0.243603   \n",
       "std      0.185630    0.179853    0.181719    0.182113    0.140983    0.212548   \n",
       "min      0.000000    0.000000    0.000000    0.000000    0.000000    0.000000   \n",
       "25%      0.054917    0.049372    0.027739    0.047120    0.018265    0.071186   \n",
       "50%      0.172414    0.150808    0.090153    0.167539    0.063927    0.196610   \n",
       "75%      0.293742    0.278276    0.210818    0.314136    0.146119    0.366102   \n",
       "max      1.000000    1.000000    1.000000    1.000000    1.000000    1.000000   \n",
       "\n",
       "               pf         pts      pos_PF      pos_PG      pos_SF      pos_SG  \\\n",
       "count  481.000000  481.000000  481.000000  481.000000  481.000000  481.000000   \n",
       "mean     0.387799    0.199222    0.201663    0.176715    0.205821    0.228690   \n",
       "std      0.260856    0.181420    0.401660    0.381825    0.404721    0.420427   \n",
       "min      0.000000    0.000000    0.000000    0.000000    0.000000    0.000000   \n",
       "25%      0.161172    0.044350    0.000000    0.000000    0.000000    0.000000   \n",
       "50%      0.380952    0.154647    0.000000    0.000000    0.000000    0.000000   \n",
       "75%      0.578755    0.316622    0.000000    0.000000    0.000000    0.000000   \n",
       "max      1.000000    1.000000    1.000000    1.000000    1.000000    1.000000   \n",
       "\n",
       "         team_BOS    team_BRK    team_CHA    team_CHI    team_CLE    team_DAL  \\\n",
       "count  481.000000  481.000000  481.000000  481.000000  481.000000  481.000000   \n",
       "mean     0.029106    0.031185    0.027027    0.022869    0.029106    0.031185   \n",
       "std      0.168279    0.173998    0.162331    0.149642    0.168279    0.173998   \n",
       "min      0.000000    0.000000    0.000000    0.000000    0.000000    0.000000   \n",
       "25%      0.000000    0.000000    0.000000    0.000000    0.000000    0.000000   \n",
       "50%      0.000000    0.000000    0.000000    0.000000    0.000000    0.000000   \n",
       "75%      0.000000    0.000000    0.000000    0.000000    0.000000    0.000000   \n",
       "max      1.000000    1.000000    1.000000    1.000000    1.000000    1.000000   \n",
       "\n",
       "         team_DEN    team_DET    team_GSW    team_HOU    team_IND    team_LAC  \\\n",
       "count  481.000000  481.000000  481.000000  481.000000  481.000000  481.000000   \n",
       "mean     0.024948    0.031185    0.024948    0.031185    0.024948    0.033264   \n",
       "std      0.156129    0.173998    0.156129    0.173998    0.156129    0.179512   \n",
       "min      0.000000    0.000000    0.000000    0.000000    0.000000    0.000000   \n",
       "25%      0.000000    0.000000    0.000000    0.000000    0.000000    0.000000   \n",
       "50%      0.000000    0.000000    0.000000    0.000000    0.000000    0.000000   \n",
       "75%      0.000000    0.000000    0.000000    0.000000    0.000000    0.000000   \n",
       "max      1.000000    1.000000    1.000000    1.000000    1.000000    1.000000   \n",
       "\n",
       "         team_LAL    team_MEM    team_MIA    team_MIL    team_MIN    team_NOP  \\\n",
       "count  481.000000  481.000000  481.000000  481.000000  481.000000  481.000000   \n",
       "mean     0.033264    0.027027    0.031185    0.027027    0.029106    0.037422   \n",
       "std      0.179512    0.162331    0.173998    0.162331    0.168279    0.189991   \n",
       "min      0.000000    0.000000    0.000000    0.000000    0.000000    0.000000   \n",
       "25%      0.000000    0.000000    0.000000    0.000000    0.000000    0.000000   \n",
       "50%      0.000000    0.000000    0.000000    0.000000    0.000000    0.000000   \n",
       "75%      0.000000    0.000000    0.000000    0.000000    0.000000    0.000000   \n",
       "max      1.000000    1.000000    1.000000    1.000000    1.000000    1.000000   \n",
       "\n",
       "         team_NYK    team_OKC    team_ORL    team_PHI    team_PHO    team_POR  \\\n",
       "count  481.000000  481.000000  481.000000  481.000000  481.000000  481.000000   \n",
       "mean     0.031185    0.035343    0.027027    0.024948    0.031185    0.031185   \n",
       "std      0.173998    0.184838    0.162331    0.156129    0.173998    0.173998   \n",
       "min      0.000000    0.000000    0.000000    0.000000    0.000000    0.000000   \n",
       "25%      0.000000    0.000000    0.000000    0.000000    0.000000    0.000000   \n",
       "50%      0.000000    0.000000    0.000000    0.000000    0.000000    0.000000   \n",
       "75%      0.000000    0.000000    0.000000    0.000000    0.000000    0.000000   \n",
       "max      1.000000    1.000000    1.000000    1.000000    1.000000    1.000000   \n",
       "\n",
       "         team_SAC    team_SAS    team_TOR    team_TOT    team_UTA    team_WAS  \n",
       "count  481.000000  481.000000  481.000000  481.000000  481.000000  481.000000  \n",
       "mean     0.018711    0.029106    0.020790    0.130977    0.033264    0.029106  \n",
       "std      0.135644    0.168279    0.142829    0.337727    0.179512    0.168279  \n",
       "min      0.000000    0.000000    0.000000    0.000000    0.000000    0.000000  \n",
       "25%      0.000000    0.000000    0.000000    0.000000    0.000000    0.000000  \n",
       "50%      0.000000    0.000000    0.000000    0.000000    0.000000    0.000000  \n",
       "75%      0.000000    0.000000    0.000000    0.000000    0.000000    0.000000  \n",
       "max      1.000000    1.000000    1.000000    1.000000    1.000000    1.000000  "
      ]
     },
     "execution_count": 45,
     "metadata": {},
     "output_type": "execute_result"
    }
   ],
   "source": [
    "df_nba_scaled.describe()"
   ]
  },
  {
   "cell_type": "markdown",
   "metadata": {},
   "source": [
    "# Generating Input data X and Output Y, and Split the Data for Training and Testing"
   ]
  },
  {
   "cell_type": "code",
   "execution_count": 46,
   "metadata": {
    "ExecuteTime": {
     "end_time": "2018-08-21T19:41:42.470076Z",
     "start_time": "2018-08-21T19:41:42.465072Z"
    }
   },
   "outputs": [],
   "source": [
    "X = df_nba_scaled.drop('pts', axis = 1)\n",
    "Y = df_nba_scaled['pts']"
   ]
  },
  {
   "cell_type": "code",
   "execution_count": 47,
   "metadata": {
    "ExecuteTime": {
     "end_time": "2018-08-21T19:41:42.483022Z",
     "start_time": "2018-08-21T19:41:42.477041Z"
    }
   },
   "outputs": [],
   "source": [
    "x_train, x_test, y_train, y_test = train_test_split(X, Y, test_size = 0.2, random_state = 100)"
   ]
  },
  {
   "cell_type": "markdown",
   "metadata": {},
   "source": [
    "# Fit the Base Models "
   ]
  },
  {
   "cell_type": "markdown",
   "metadata": {},
   "source": [
    "## using Euclidean Distance as a distance metrics"
   ]
  },
  {
   "cell_type": "code",
   "execution_count": 48,
   "metadata": {
    "ExecuteTime": {
     "end_time": "2018-08-21T19:41:46.417497Z",
     "start_time": "2018-08-21T19:41:42.485024Z"
    }
   },
   "outputs": [
    {
     "name": "stdout",
     "output_type": "stream",
     "text": [
      "Accuracy:  0.7513843147299952 for K-Value: 1\n",
      "Accuracy:  0.8199725833331336 for K-Value: 2\n",
      "Accuracy:  0.8580731090101001 for K-Value: 3\n",
      "Accuracy:  0.886968662676202 for K-Value: 4\n",
      "Accuracy:  0.8959555549179624 for K-Value: 5\n",
      "Accuracy:  0.8992614554993184 for K-Value: 6\n",
      "Accuracy:  0.9036493448407232 for K-Value: 7\n",
      "Accuracy:  0.9072877074161129 for K-Value: 8\n",
      "Accuracy:  0.9111726205321228 for K-Value: 9\n",
      "Accuracy:  0.908236609041231 for K-Value: 10\n",
      "Accuracy:  0.9072146074098933 for K-Value: 11\n",
      "Accuracy:  0.9136840025075303 for K-Value: 12\n",
      "Accuracy:  0.913021296223261 for K-Value: 13\n",
      "Accuracy:  0.9059200749886736 for K-Value: 14\n",
      "Accuracy:  0.9082728625112148 for K-Value: 15\n",
      "Accuracy:  0.9074960092931297 for K-Value: 16\n",
      "Accuracy:  0.9082081255476709 for K-Value: 17\n",
      "Accuracy:  0.9038429793012481 for K-Value: 18\n",
      "Accuracy:  0.9023496673490286 for K-Value: 19\n",
      "Accuracy:  0.9014758950881321 for K-Value: 20\n"
     ]
    }
   ],
   "source": [
    "k_values =[]\n",
    "r_Square_train_values =[]\n",
    "r_Square_test_values =[]\n",
    "rmse_train_values = []\n",
    "rmse_test_values =[]\n",
    "accuracy_test =[]\n",
    "accuracy_train =[]\n",
    "\n",
    "import math\n",
    "\n",
    "for k in range(1,21):\n",
    "    knn = KNeighborsRegressor(n_neighbors = k, weights='uniform', algorithm='auto')\n",
    "    model = knn.fit(x_train, y_train) \n",
    "    y_pred = model.predict(x_test)\n",
    "    \n",
    "    k_values.append(k)\n",
    "    \n",
    "    r_Square_train_values.append(metrics.r2_score(model.predict(x_train), y_train))\n",
    "    r_Square_test_values.append(metrics.r2_score(model.predict(x_test), y_test))\n",
    "    \n",
    "    rmse_train_values.append(math.sqrt(metrics.mean_squared_error(model.predict(x_train), y_train)))\n",
    "    rmse_test_values.append(math.sqrt(metrics.mean_squared_error(model.predict(x_test), y_test)))\n",
    "    \n",
    "    accuracy_train.append(model.score(x_train, y_train))\n",
    "    accuracy_test.append(model.score(x_test, y_test))\n",
    "\n",
    "    print(\"Accuracy: \", model.score(x_test, y_test),\"for K-Value:\",k)\n",
    "    "
   ]
  },
  {
   "cell_type": "code",
   "execution_count": 53,
   "metadata": {
    "ExecuteTime": {
     "end_time": "2018-08-21T19:41:46.682788Z",
     "start_time": "2018-08-21T19:41:46.419511Z"
    }
   },
   "outputs": [
    {
     "data": {
      "image/png": "[encoded data removed]",
      "text/plain": [
       "<matplotlib.figure.Figure at 0x1a7326d7550>"
      ]
     },
     "metadata": {},
     "output_type": "display_data"
    }
   ],
   "source": [
    "plt.figure(figsize = (20,5))\n",
    "\n",
    "plt.scatter(k_values, accuracy_train, label = 'accuracy_train')\n",
    "plt.scatter(k_values, accuracy_test, label = 'accuracy_test')\n",
    "\n",
    "plt.scatter(k_values, r_Square_train_values, label = 'r_Square_train',marker='+')\n",
    "plt.scatter(k_values, r_Square_test_values, label = 'r_Square_test',marker='+')\n",
    "\n",
    "plt.scatter(k_values, rmse_train_values, label = 'rmse_train',marker='*')\n",
    "plt.scatter(k_values, rmse_test_values, label = 'rmse_test',marker='*')\n",
    "\n",
    "plt.legend()\n",
    "plt.show()\n",
    "     "
   ]
  },
  {
   "cell_type": "markdown",
   "metadata": {},
   "source": [
    "## Feature selection"
   ]
  },
  {
   "cell_type": "code",
   "execution_count": 54,
   "metadata": {
    "ExecuteTime": {
     "end_time": "2018-08-21T19:42:25.961732Z",
     "start_time": "2018-08-21T19:42:24.531526Z"
    },
    "scrolled": false
   },
   "outputs": [
    {
     "data": {
      "text/plain": [
       "(array([ 0,  1,  2,  3,  4,  5,  6,  7,  8,  9, 10, 11, 12, 13, 14, 15, 16,\n",
       "        17, 18, 19, 20, 21, 22, 23, 24, 25, 26, 27, 28, 29, 30, 31, 32, 33,\n",
       "        34, 35, 36, 37, 38, 39, 40, 41, 42, 43, 44, 45, 46, 47, 48, 49, 50,\n",
       "        51, 52, 53, 54, 55, 56, 57, 58]),\n",
       " <a list of 59 Text xticklabel objects>)"
      ]
     },
     "execution_count": 54,
     "metadata": {},
     "output_type": "execute_result"
    },
    {
     "data": {
      "image/png": "[encoded data removed]",
      "text/plain": [
       "<matplotlib.figure.Figure at 0x1a735bc7748>"
      ]
     },
     "metadata": {},
     "output_type": "display_data"
    }
   ],
   "source": [
    "from sklearn.ensemble import RandomForestRegressor\n",
    "rndf = RandomForestRegressor(n_estimators=150)\n",
    "rndf.fit(x_train, y_train)\n",
    "importance = pd.DataFrame.from_dict({'cols':x_train.columns, 'importance': rndf.feature_importances_})\n",
    "importance = importance.sort_values(by='importance', ascending=False)\n",
    "plt.figure(figsize=(20,15))\n",
    "sns.barplot(importance.cols, importance.importance)\n",
    "plt.xticks(rotation=90)"
   ]
  },
  {
   "cell_type": "code",
   "execution_count": 55,
   "metadata": {
    "ExecuteTime": {
     "end_time": "2018-08-21T19:42:25.970675Z",
     "start_time": "2018-08-21T19:42:25.963692Z"
    }
   },
   "outputs": [
    {
     "data": {
      "text/plain": [
       "array(['fg', 'fga', 'ft', 'fta', 'mp', 'ft.', 'tov', 'x2p.', 'team_OKC',\n",
       "       'ast', 'efg.', 'gs', 'blk'], dtype=object)"
      ]
     },
     "execution_count": 55,
     "metadata": {},
     "output_type": "execute_result"
    }
   ],
   "source": [
    "imp_cols = importance[importance.importance > 0.0005].cols.values\n",
    "imp_cols"
   ]
  },
  {
   "cell_type": "code",
   "execution_count": 56,
   "metadata": {
    "ExecuteTime": {
     "end_time": "2018-08-21T19:42:25.981646Z",
     "start_time": "2018-08-21T19:42:25.973668Z"
    }
   },
   "outputs": [],
   "source": [
    "x1_train,x1_test, y1_train, y1_test = train_test_split(X[imp_cols],Y,test_size=0.2,random_state =100)"
   ]
  },
  {
   "cell_type": "markdown",
   "metadata": {},
   "source": [
    "# Fit Features Selected Model and Collect the Metrics"
   ]
  },
  {
   "cell_type": "markdown",
   "metadata": {},
   "source": [
    "## Distance Metric = Euclidean Distance"
   ]
  },
  {
   "cell_type": "code",
   "execution_count": 58,
   "metadata": {
    "ExecuteTime": {
     "end_time": "2018-08-21T19:42:26.841360Z",
     "start_time": "2018-08-21T19:42:25.984637Z"
    }
   },
   "outputs": [
    {
     "name": "stdout",
     "output_type": "stream",
     "text": [
      "Accuracy:  0.9472082494473167 for K-Value: 1\n",
      "Accuracy:  0.9618453556830566 for K-Value: 2\n",
      "Accuracy:  0.9656694992576822 for K-Value: 3\n",
      "Accuracy:  0.9689009716294466 for K-Value: 4\n",
      "Accuracy:  0.9680043290469977 for K-Value: 5\n",
      "Accuracy:  0.9699346170194433 for K-Value: 6\n",
      "Accuracy:  0.9740549229939546 for K-Value: 7\n",
      "Accuracy:  0.9717924988056623 for K-Value: 8\n",
      "Accuracy:  0.9711873245914094 for K-Value: 9\n",
      "Accuracy:  0.9697589532543371 for K-Value: 10\n",
      "Accuracy:  0.9705629419112501 for K-Value: 11\n",
      "Accuracy:  0.969900511706657 for K-Value: 12\n",
      "Accuracy:  0.969350939920821 for K-Value: 13\n",
      "Accuracy:  0.9664692948167155 for K-Value: 14\n",
      "Accuracy:  0.9669561827028833 for K-Value: 15\n",
      "Accuracy:  0.9663191206841542 for K-Value: 16\n",
      "Accuracy:  0.9671736890741885 for K-Value: 17\n",
      "Accuracy:  0.9660438182650514 for K-Value: 18\n",
      "Accuracy:  0.9654495768087406 for K-Value: 19\n",
      "Accuracy:  0.9650454526676803 for K-Value: 20\n"
     ]
    }
   ],
   "source": [
    "k_values =[]\n",
    "r2_train1_values =[]\n",
    "r2_test1_values =[]\n",
    "rmse_train1_values = []\n",
    "rmse_test1_values =[]\n",
    "accuracy_test1 =[]\n",
    "accuracy_train1 =[]\n",
    "\n",
    "\n",
    "import math\n",
    "\n",
    "for k in range(1,21):\n",
    "    knn = KNeighborsRegressor(n_neighbors = k, weights='uniform', algorithm='auto')\n",
    "    model = knn.fit(x1_train, y1_train) \n",
    "    y_pred1 = model.predict(x1_test)\n",
    "    k_values.append(k)\n",
    "    r2_train1_values.append(metrics.r2_score(model.predict(x1_train), y1_train))\n",
    "    r2_test1_values.append(metrics.r2_score(model.predict(x1_test), y1_test))\n",
    "    rmse_train1_values.append(math.sqrt(metrics.mean_squared_error(model.predict(x1_train), y1_train)))\n",
    "    rmse_test1_values.append(math.sqrt(metrics.mean_squared_error(model.predict(x1_test), y1_test)))\n",
    "    accuracy_train1.append(model.score(x1_train, y1_train))\n",
    "    accuracy_test1.append(model.score(x1_test, y1_test))\n",
    "\n",
    "    print(\"Accuracy: \", model.score(x1_test, y1_test),\"for K-Value:\",k)"
   ]
  },
  {
   "cell_type": "code",
   "execution_count": 61,
   "metadata": {
    "ExecuteTime": {
     "end_time": "2018-08-21T19:42:27.054775Z",
     "start_time": "2018-08-21T19:42:26.844338Z"
    }
   },
   "outputs": [
    {
     "data": {
      "image/png": "[encoded data removed]",
      "text/plain": [
       "<matplotlib.figure.Figure at 0x1a7333b1400>"
      ]
     },
     "metadata": {},
     "output_type": "display_data"
    }
   ],
   "source": [
    "plt.figure(figsize = (20,5))\n",
    "\n",
    "plt.scatter(k_values, accuracy_train1, label = 'accuracy_train1')\n",
    "plt.scatter(k_values, accuracy_test1, label = 'accuracy_test1')\n",
    "\n",
    "plt.scatter(k_values, r2_train1_values, label = 'r2_train1', marker='+')\n",
    "plt.scatter(k_values, r2_test1_values, label = 'r2_test1', marker='+')\n",
    "\n",
    "plt.scatter(k_values, rmse_train1_values, label = 'rmse_train1', marker='*')\n",
    "plt.scatter(k_values, rmse_test1_values, label = 'rmse_test1', marker='*')\n",
    "\n",
    "plt.legend()\n",
    "plt.show()"
   ]
  },
  {
   "cell_type": "markdown",
   "metadata": {},
   "source": [
    "# Validate Model"
   ]
  },
  {
   "cell_type": "code",
   "execution_count": 63,
   "metadata": {
    "ExecuteTime": {
     "end_time": "2018-08-21T19:42:44.348515Z",
     "start_time": "2018-08-21T19:42:32.687705Z"
    },
    "code_folding": []
   },
   "outputs": [],
   "source": [
    "# Validate Base Model\n",
    "\n",
    "cv_scores_euclid =[]\n",
    "#cv_scores_manhattan =[]\n",
    "#cv_scores_minkowski =[]\n",
    "\n",
    "k_values =[]\n",
    "\n",
    "for k in range(1, 21):\n",
    "    \n",
    "    k_values.append(k)\n",
    "    \n",
    "    knn_euclid = KNeighborsRegressor(n_neighbors = k, weights='uniform', algorithm='auto')\n",
    "    scores = cross_val_score(knn_euclid, x_train, y_train, cv=10, scoring='neg_mean_squared_error')\n",
    "    cv_scores_euclid.append(scores.mean())\n",
    "    \n",
    "    #knn_manhattan = KNeighborsRegressor(n_neighbors = k, weights='uniform', algorithm='auto', p = 1 )\n",
    "    #scores = cross_val_score(knn_manhattan, x_train, y_train, cv=10, scoring='neg_mean_squared_error')\n",
    "    #cv_scores_manhattan.append(scores.mean())\n",
    "    \n",
    "    #knn_minkowski = KNeighborsRegressor(n_neighbors = k, weights='uniform', algorithm='auto', p = 3)\n",
    "    #scores = cross_val_score(knn_minkowski, x_train, y_train, cv=10, scoring='neg_mean_squared_error')\n",
    "    #cv_scores_minkowski.append(scores.mean())\n",
    " "
   ]
  },
  {
   "cell_type": "markdown",
   "metadata": {},
   "source": [
    "***The CV score are better for feature selected models***"
   ]
  },
  {
   "cell_type": "markdown",
   "metadata": {},
   "source": [
    "# Compare Performance Metrics of Different Models  - Euclidean Distance based Models "
   ]
  },
  {
   "cell_type": "code",
   "execution_count": 64,
   "metadata": {
    "ExecuteTime": {
     "end_time": "2018-08-21T19:42:51.624069Z",
     "start_time": "2018-08-21T19:42:48.168288Z"
    }
   },
   "outputs": [],
   "source": [
    "# Base Model\n",
    "\n",
    "k_values =[]\n",
    "r2_train_values =[]\n",
    "r2_test_values =[]\n",
    "rmse_train_values = []\n",
    "rmse_test_values =[]\n",
    "accuracy_test =[]\n",
    "accuracy_train =[]\n",
    "\n",
    "import math\n",
    "\n",
    "for k in range(1,21):\n",
    "    knn = KNeighborsRegressor(n_neighbors = k, weights='uniform', algorithm='auto')\n",
    "    model = knn.fit(x_train, y_train) \n",
    "    y_pred = model.predict(x_test)\n",
    "    k_values.append(k)\n",
    "    r2_train_values.append(metrics.r2_score(model.predict(x_train), y_train))\n",
    "    r2_test_values.append(metrics.r2_score(model.predict(x_test), y_test))\n",
    "    rmse_train_values.append(math.sqrt(metrics.mean_squared_error(model.predict(x_train), y_train)))\n",
    "    rmse_test_values.append(math.sqrt(metrics.mean_squared_error(model.predict(x_test), y_test)))\n",
    "    accuracy_train.append(model.score(x_train, y_train))\n",
    "    accuracy_test.append(model.score(x_test, y_test))"
   ]
  },
  {
   "cell_type": "code",
   "execution_count": 67,
   "metadata": {
    "ExecuteTime": {
     "end_time": "2018-08-21T19:42:52.458884Z",
     "start_time": "2018-08-21T19:42:51.626036Z"
    }
   },
   "outputs": [],
   "source": [
    "# Features Selected Model\n",
    "\n",
    "k_values =[]\n",
    "r2_train1_values =[]\n",
    "r2_test1_values =[]\n",
    "rmse_train1_values = []\n",
    "rmse_test1_values =[]\n",
    "accuracy_test1 =[]\n",
    "accuracy_train1 =[]\n",
    "\n",
    "\n",
    "import math\n",
    "\n",
    "for k in range(1,21):\n",
    "    knn = KNeighborsRegressor(n_neighbors = k, weights='uniform', algorithm='auto')\n",
    "    model = knn.fit(x1_train, y1_train) \n",
    "    y_pred1 = model.predict(x1_test)\n",
    "    k_values.append(k)\n",
    "    r2_train1_values.append(metrics.r2_score(model.predict(x1_train), y1_train))\n",
    "    r2_test1_values.append(metrics.r2_score(model.predict(x1_test), y1_test))\n",
    "    rmse_train1_values.append(math.sqrt(metrics.mean_squared_error(model.predict(x1_train), y1_train)))\n",
    "    rmse_test1_values.append(math.sqrt(metrics.mean_squared_error(model.predict(x1_test), y1_test)))\n",
    "    accuracy_train1.append(model.score(x1_train, y1_train))\n",
    "    accuracy_test1.append(model.score(x1_test, y1_test))\n"
   ]
  },
  {
   "cell_type": "code",
   "execution_count": 73,
   "metadata": {
    "ExecuteTime": {
     "end_time": "2018-08-21T19:42:52.659272Z",
     "start_time": "2018-08-21T19:42:52.460801Z"
    }
   },
   "outputs": [
    {
     "data": {
      "image/png": "[encoded data removed]",
      "text/plain": [
       "<matplotlib.figure.Figure at 0x1a73268afd0>"
      ]
     },
     "metadata": {},
     "output_type": "display_data"
    }
   ],
   "source": [
    "plt.figure(figsize = (20,5))\n",
    "\n",
    "plt.scatter(k_values, accuracy_test1, label = 'accuracy_test  - Feature Selected')\n",
    "plt.scatter(k_values, accuracy_test , label = 'accuracy_test  - Base')\n",
    "\n",
    "plt.legend()\n",
    "plt.show()"
   ]
  },
  {
   "cell_type": "code",
   "execution_count": 76,
   "metadata": {
    "ExecuteTime": {
     "end_time": "2018-08-21T19:42:53.087127Z",
     "start_time": "2018-08-21T19:42:52.894660Z"
    },
    "scrolled": false
   },
   "outputs": [
    {
     "data": {
      "image/png": "[encoded data removed]",
      "text/plain": [
       "<matplotlib.figure.Figure at 0x1a7333ddcf8>"
      ]
     },
     "metadata": {},
     "output_type": "display_data"
    }
   ],
   "source": [
    "plt.figure(figsize = (20,5))\n",
    "\n",
    "plt.scatter(k_values, rmse_test1_values, c ='orange', label = 'rmse_test  - Feature Selected')\n",
    "plt.scatter(k_values, rmse_test_values,  c ='red', label = 'rmse_test  - Base')\n",
    "\n",
    "plt.legend()\n",
    "plt.show()"
   ]
  },
  {
   "cell_type": "markdown",
   "metadata": {},
   "source": [
    "***Models with k = 4,6 provide us with better metrics so we choose to them***"
   ]
  },
  {
   "cell_type": "code",
   "execution_count": 78,
   "metadata": {
    "ExecuteTime": {
     "end_time": "2018-08-21T19:42:53.112062Z",
     "start_time": "2018-08-21T19:42:53.090120Z"
    }
   },
   "outputs": [
    {
     "name": "stdout",
     "output_type": "stream",
     "text": [
      "K = 6\n",
      "----------------------------------------\n",
      "Accuracy:  0.9740549229939546\n",
      "R2-score:  0.9736103716247438\n",
      "RMSE:  0.026028315174290915\n"
     ]
    }
   ],
   "source": [
    "knn_7 = KNeighborsRegressor(n_neighbors = 7, weights='uniform', algorithm='auto')\n",
    "model_7 = knn_7.fit(x1_train, y1_train) \n",
    "print('K = 6')\n",
    "print('-'*40)\n",
    "print('Accuracy: ', model_7.score(x1_test, y1_test))\n",
    "print('R2-score: ', metrics.r2_score(model_7.predict(x1_test), y1_test))\n",
    "print('RMSE: ', math.sqrt(metrics.mean_squared_error(model_7.predict(x1_test), y1_test)))\n"
   ]
  },
  {
   "cell_type": "markdown",
   "metadata": {
    "ExecuteTime": {
     "end_time": "2018-08-21T14:24:13.542213Z",
     "start_time": "2018-08-21T14:24:13.537256Z"
    }
   },
   "source": [
    "***The feature selected model (for k = 7 performs better for better than the base model. So this should be the model we choose to deploy***"
   ]
  },
  {
   "cell_type": "markdown",
   "metadata": {},
   "source": [
    "# Choose the model for deployment"
   ]
  },
  {
   "cell_type": "markdown",
   "metadata": {
    "ExecuteTime": {
     "end_time": "2018-08-21T14:25:32.782854Z",
     "start_time": "2018-08-21T14:25:32.777870Z"
    }
   },
   "source": [
    "***Therefore the model we choose to deploy should have:***\n",
    "    - k = 7,\n",
    "    - test size = 0.2 or 20% of dataset and random_state = 100\n",
    "    - training features = [ 'fg', 'fga', 'ft', 'fta', 'mp', 'ft.', 'tov', 'x2p.', 'team_OKC','ast', 'efg.', 'gs', 'blk']\n",
    "    - Distance Metric = Euclidean Distance"
   ]
  },
  {
   "cell_type": "code",
   "execution_count": 79,
   "metadata": {
    "ExecuteTime": {
     "end_time": "2018-08-21T19:42:53.119065Z",
     "start_time": "2018-08-21T19:42:53.115053Z"
    }
   },
   "outputs": [
    {
     "data": {
      "text/plain": [
       "KNeighborsRegressor(algorithm='auto', leaf_size=30, metric='minkowski',\n",
       "          metric_params=None, n_jobs=1, n_neighbors=7, p=2,\n",
       "          weights='uniform')"
      ]
     },
     "execution_count": 79,
     "metadata": {},
     "output_type": "execute_result"
    }
   ],
   "source": [
    "knn_7"
   ]
  },
  {
   "cell_type": "code",
   "execution_count": null,
   "metadata": {},
   "outputs": [],
   "source": []
  }
 ],
 "metadata": {
  "kernelspec": {
   "display_name": "Python 3",
   "language": "python",
   "name": "python3"
  },
  "language_info": {
   "codemirror_mode": {
    "name": "ipython",
    "version": 3
   },
   "file_extension": ".py",
   "mimetype": "text/x-python",
   "name": "python",
   "nbconvert_exporter": "python",
   "pygments_lexer": "ipython3",
   "version": "3.6.4"
  },
  "latex_envs": {
   "LaTeX_envs_menu_present": true,
   "autoclose": false,
   "autocomplete": true,
   "bibliofile": "biblio.bib",
   "cite_by": "apalike",
   "current_citInitial": 1,
   "eqLabelWithNumbers": true,
   "eqNumInitial": 1,
   "hotkeys": {
    "equation": "Ctrl-E",
    "itemize": "Ctrl-I"
   },
   "labels_anchors": false,
   "latex_user_defs": false,
   "report_style_numbering": false,
   "user_envs_cfg": false
  },
  "toc": {
   "base_numbering": 1,
   "nav_menu": {},
   "number_sections": true,
   "sideBar": true,
   "skip_h1_title": false,
   "title_cell": "Table of Contents",
   "title_sidebar": "Contents",
   "toc_cell": false,
   "toc_position": {
    "height": "calc(100% - 180px)",
    "left": "10px",
    "top": "150px",
    "width": "307.2px"
   },
   "toc_section_display": true,
   "toc_window_display": false
  }
 },
 "nbformat": 4,
 "nbformat_minor": 2
}
